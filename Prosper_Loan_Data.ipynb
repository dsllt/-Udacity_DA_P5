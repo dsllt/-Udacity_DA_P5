{
 "cells": [
  {
   "cell_type": "markdown",
   "metadata": {},
   "source": [
    "# Prosper Loan Data Exploration\n",
    "## by Dayane Sallet\n",
    "\n",
    "## Preliminary Wrangling\n",
    "This dataset is composed of 113,937 loans and for each entry there are 81 variables. Those variables include loan amount, borrower rate, current loan status, borrower income, and many others."
   ]
  },
  {
   "cell_type": "code",
   "execution_count": 1,
   "metadata": {},
   "outputs": [],
   "source": [
    "# Import all packages and set plots to be embedded inline\n",
    "import numpy as np\n",
    "import pandas as pd\n",
    "import matplotlib.pyplot as plt\n",
    "import seaborn as sb\n",
    "\n",
    "%matplotlib inline"
   ]
  },
  {
   "cell_type": "code",
   "execution_count": 2,
   "metadata": {},
   "outputs": [
    {
     "data": {
      "text/html": [
       "<div>\n",
       "<style scoped>\n",
       "    .dataframe tbody tr th:only-of-type {\n",
       "        vertical-align: middle;\n",
       "    }\n",
       "\n",
       "    .dataframe tbody tr th {\n",
       "        vertical-align: top;\n",
       "    }\n",
       "\n",
       "    .dataframe thead th {\n",
       "        text-align: right;\n",
       "    }\n",
       "</style>\n",
       "<table border=\"1\" class=\"dataframe\">\n",
       "  <thead>\n",
       "    <tr style=\"text-align: right;\">\n",
       "      <th></th>\n",
       "      <th>ListingKey</th>\n",
       "      <th>ListingNumber</th>\n",
       "      <th>ListingCreationDate</th>\n",
       "      <th>CreditGrade</th>\n",
       "      <th>Term</th>\n",
       "      <th>LoanStatus</th>\n",
       "      <th>ClosedDate</th>\n",
       "      <th>BorrowerAPR</th>\n",
       "      <th>BorrowerRate</th>\n",
       "      <th>LenderYield</th>\n",
       "      <th>...</th>\n",
       "      <th>LP_ServiceFees</th>\n",
       "      <th>LP_CollectionFees</th>\n",
       "      <th>LP_GrossPrincipalLoss</th>\n",
       "      <th>LP_NetPrincipalLoss</th>\n",
       "      <th>LP_NonPrincipalRecoverypayments</th>\n",
       "      <th>PercentFunded</th>\n",
       "      <th>Recommendations</th>\n",
       "      <th>InvestmentFromFriendsCount</th>\n",
       "      <th>InvestmentFromFriendsAmount</th>\n",
       "      <th>Investors</th>\n",
       "    </tr>\n",
       "  </thead>\n",
       "  <tbody>\n",
       "    <tr>\n",
       "      <th>0</th>\n",
       "      <td>1021339766868145413AB3B</td>\n",
       "      <td>193129</td>\n",
       "      <td>2007-08-26 19:09:29.263000000</td>\n",
       "      <td>C</td>\n",
       "      <td>36</td>\n",
       "      <td>Completed</td>\n",
       "      <td>2009-08-14 00:00:00</td>\n",
       "      <td>0.16516</td>\n",
       "      <td>0.1580</td>\n",
       "      <td>0.1380</td>\n",
       "      <td>...</td>\n",
       "      <td>-133.18</td>\n",
       "      <td>0.0</td>\n",
       "      <td>0.0</td>\n",
       "      <td>0.0</td>\n",
       "      <td>0.0</td>\n",
       "      <td>1.0</td>\n",
       "      <td>0</td>\n",
       "      <td>0</td>\n",
       "      <td>0.0</td>\n",
       "      <td>258</td>\n",
       "    </tr>\n",
       "    <tr>\n",
       "      <th>1</th>\n",
       "      <td>10273602499503308B223C1</td>\n",
       "      <td>1209647</td>\n",
       "      <td>2014-02-27 08:28:07.900000000</td>\n",
       "      <td>NaN</td>\n",
       "      <td>36</td>\n",
       "      <td>Current</td>\n",
       "      <td>NaN</td>\n",
       "      <td>0.12016</td>\n",
       "      <td>0.0920</td>\n",
       "      <td>0.0820</td>\n",
       "      <td>...</td>\n",
       "      <td>0.00</td>\n",
       "      <td>0.0</td>\n",
       "      <td>0.0</td>\n",
       "      <td>0.0</td>\n",
       "      <td>0.0</td>\n",
       "      <td>1.0</td>\n",
       "      <td>0</td>\n",
       "      <td>0</td>\n",
       "      <td>0.0</td>\n",
       "      <td>1</td>\n",
       "    </tr>\n",
       "    <tr>\n",
       "      <th>2</th>\n",
       "      <td>0EE9337825851032864889A</td>\n",
       "      <td>81716</td>\n",
       "      <td>2007-01-05 15:00:47.090000000</td>\n",
       "      <td>HR</td>\n",
       "      <td>36</td>\n",
       "      <td>Completed</td>\n",
       "      <td>2009-12-17 00:00:00</td>\n",
       "      <td>0.28269</td>\n",
       "      <td>0.2750</td>\n",
       "      <td>0.2400</td>\n",
       "      <td>...</td>\n",
       "      <td>-24.20</td>\n",
       "      <td>0.0</td>\n",
       "      <td>0.0</td>\n",
       "      <td>0.0</td>\n",
       "      <td>0.0</td>\n",
       "      <td>1.0</td>\n",
       "      <td>0</td>\n",
       "      <td>0</td>\n",
       "      <td>0.0</td>\n",
       "      <td>41</td>\n",
       "    </tr>\n",
       "    <tr>\n",
       "      <th>3</th>\n",
       "      <td>0EF5356002482715299901A</td>\n",
       "      <td>658116</td>\n",
       "      <td>2012-10-22 11:02:35.010000000</td>\n",
       "      <td>NaN</td>\n",
       "      <td>36</td>\n",
       "      <td>Current</td>\n",
       "      <td>NaN</td>\n",
       "      <td>0.12528</td>\n",
       "      <td>0.0974</td>\n",
       "      <td>0.0874</td>\n",
       "      <td>...</td>\n",
       "      <td>-108.01</td>\n",
       "      <td>0.0</td>\n",
       "      <td>0.0</td>\n",
       "      <td>0.0</td>\n",
       "      <td>0.0</td>\n",
       "      <td>1.0</td>\n",
       "      <td>0</td>\n",
       "      <td>0</td>\n",
       "      <td>0.0</td>\n",
       "      <td>158</td>\n",
       "    </tr>\n",
       "    <tr>\n",
       "      <th>4</th>\n",
       "      <td>0F023589499656230C5E3E2</td>\n",
       "      <td>909464</td>\n",
       "      <td>2013-09-14 18:38:39.097000000</td>\n",
       "      <td>NaN</td>\n",
       "      <td>36</td>\n",
       "      <td>Current</td>\n",
       "      <td>NaN</td>\n",
       "      <td>0.24614</td>\n",
       "      <td>0.2085</td>\n",
       "      <td>0.1985</td>\n",
       "      <td>...</td>\n",
       "      <td>-60.27</td>\n",
       "      <td>0.0</td>\n",
       "      <td>0.0</td>\n",
       "      <td>0.0</td>\n",
       "      <td>0.0</td>\n",
       "      <td>1.0</td>\n",
       "      <td>0</td>\n",
       "      <td>0</td>\n",
       "      <td>0.0</td>\n",
       "      <td>20</td>\n",
       "    </tr>\n",
       "    <tr>\n",
       "      <th>5</th>\n",
       "      <td>0F05359734824199381F61D</td>\n",
       "      <td>1074836</td>\n",
       "      <td>2013-12-14 08:26:37.093000000</td>\n",
       "      <td>NaN</td>\n",
       "      <td>60</td>\n",
       "      <td>Current</td>\n",
       "      <td>NaN</td>\n",
       "      <td>0.15425</td>\n",
       "      <td>0.1314</td>\n",
       "      <td>0.1214</td>\n",
       "      <td>...</td>\n",
       "      <td>-25.33</td>\n",
       "      <td>0.0</td>\n",
       "      <td>0.0</td>\n",
       "      <td>0.0</td>\n",
       "      <td>0.0</td>\n",
       "      <td>1.0</td>\n",
       "      <td>0</td>\n",
       "      <td>0</td>\n",
       "      <td>0.0</td>\n",
       "      <td>1</td>\n",
       "    </tr>\n",
       "    <tr>\n",
       "      <th>6</th>\n",
       "      <td>0F0A3576754255009D63151</td>\n",
       "      <td>750899</td>\n",
       "      <td>2013-04-12 09:52:56.147000000</td>\n",
       "      <td>NaN</td>\n",
       "      <td>36</td>\n",
       "      <td>Current</td>\n",
       "      <td>NaN</td>\n",
       "      <td>0.31032</td>\n",
       "      <td>0.2712</td>\n",
       "      <td>0.2612</td>\n",
       "      <td>...</td>\n",
       "      <td>-22.95</td>\n",
       "      <td>0.0</td>\n",
       "      <td>0.0</td>\n",
       "      <td>0.0</td>\n",
       "      <td>0.0</td>\n",
       "      <td>1.0</td>\n",
       "      <td>0</td>\n",
       "      <td>0</td>\n",
       "      <td>0.0</td>\n",
       "      <td>1</td>\n",
       "    </tr>\n",
       "    <tr>\n",
       "      <th>7</th>\n",
       "      <td>0F1035772717087366F9EA7</td>\n",
       "      <td>768193</td>\n",
       "      <td>2013-05-05 06:49:27.493000000</td>\n",
       "      <td>NaN</td>\n",
       "      <td>36</td>\n",
       "      <td>Current</td>\n",
       "      <td>NaN</td>\n",
       "      <td>0.23939</td>\n",
       "      <td>0.2019</td>\n",
       "      <td>0.1919</td>\n",
       "      <td>...</td>\n",
       "      <td>-69.21</td>\n",
       "      <td>0.0</td>\n",
       "      <td>0.0</td>\n",
       "      <td>0.0</td>\n",
       "      <td>0.0</td>\n",
       "      <td>1.0</td>\n",
       "      <td>0</td>\n",
       "      <td>0</td>\n",
       "      <td>0.0</td>\n",
       "      <td>1</td>\n",
       "    </tr>\n",
       "    <tr>\n",
       "      <th>8</th>\n",
       "      <td>0F043596202561788EA13D5</td>\n",
       "      <td>1023355</td>\n",
       "      <td>2013-12-02 10:43:39.117000000</td>\n",
       "      <td>NaN</td>\n",
       "      <td>36</td>\n",
       "      <td>Current</td>\n",
       "      <td>NaN</td>\n",
       "      <td>0.07620</td>\n",
       "      <td>0.0629</td>\n",
       "      <td>0.0529</td>\n",
       "      <td>...</td>\n",
       "      <td>-16.77</td>\n",
       "      <td>0.0</td>\n",
       "      <td>0.0</td>\n",
       "      <td>0.0</td>\n",
       "      <td>0.0</td>\n",
       "      <td>1.0</td>\n",
       "      <td>0</td>\n",
       "      <td>0</td>\n",
       "      <td>0.0</td>\n",
       "      <td>1</td>\n",
       "    </tr>\n",
       "    <tr>\n",
       "      <th>9</th>\n",
       "      <td>0F043596202561788EA13D5</td>\n",
       "      <td>1023355</td>\n",
       "      <td>2013-12-02 10:43:39.117000000</td>\n",
       "      <td>NaN</td>\n",
       "      <td>36</td>\n",
       "      <td>Current</td>\n",
       "      <td>NaN</td>\n",
       "      <td>0.07620</td>\n",
       "      <td>0.0629</td>\n",
       "      <td>0.0529</td>\n",
       "      <td>...</td>\n",
       "      <td>-16.77</td>\n",
       "      <td>0.0</td>\n",
       "      <td>0.0</td>\n",
       "      <td>0.0</td>\n",
       "      <td>0.0</td>\n",
       "      <td>1.0</td>\n",
       "      <td>0</td>\n",
       "      <td>0</td>\n",
       "      <td>0.0</td>\n",
       "      <td>1</td>\n",
       "    </tr>\n",
       "  </tbody>\n",
       "</table>\n",
       "<p>10 rows × 81 columns</p>\n",
       "</div>"
      ],
      "text/plain": [
       "                ListingKey  ListingNumber            ListingCreationDate  \\\n",
       "0  1021339766868145413AB3B         193129  2007-08-26 19:09:29.263000000   \n",
       "1  10273602499503308B223C1        1209647  2014-02-27 08:28:07.900000000   \n",
       "2  0EE9337825851032864889A          81716  2007-01-05 15:00:47.090000000   \n",
       "3  0EF5356002482715299901A         658116  2012-10-22 11:02:35.010000000   \n",
       "4  0F023589499656230C5E3E2         909464  2013-09-14 18:38:39.097000000   \n",
       "5  0F05359734824199381F61D        1074836  2013-12-14 08:26:37.093000000   \n",
       "6  0F0A3576754255009D63151         750899  2013-04-12 09:52:56.147000000   \n",
       "7  0F1035772717087366F9EA7         768193  2013-05-05 06:49:27.493000000   \n",
       "8  0F043596202561788EA13D5        1023355  2013-12-02 10:43:39.117000000   \n",
       "9  0F043596202561788EA13D5        1023355  2013-12-02 10:43:39.117000000   \n",
       "\n",
       "  CreditGrade  Term LoanStatus           ClosedDate  BorrowerAPR  \\\n",
       "0           C    36  Completed  2009-08-14 00:00:00      0.16516   \n",
       "1         NaN    36    Current                  NaN      0.12016   \n",
       "2          HR    36  Completed  2009-12-17 00:00:00      0.28269   \n",
       "3         NaN    36    Current                  NaN      0.12528   \n",
       "4         NaN    36    Current                  NaN      0.24614   \n",
       "5         NaN    60    Current                  NaN      0.15425   \n",
       "6         NaN    36    Current                  NaN      0.31032   \n",
       "7         NaN    36    Current                  NaN      0.23939   \n",
       "8         NaN    36    Current                  NaN      0.07620   \n",
       "9         NaN    36    Current                  NaN      0.07620   \n",
       "\n",
       "   BorrowerRate  LenderYield  ...  LP_ServiceFees  LP_CollectionFees  \\\n",
       "0        0.1580       0.1380  ...         -133.18                0.0   \n",
       "1        0.0920       0.0820  ...            0.00                0.0   \n",
       "2        0.2750       0.2400  ...          -24.20                0.0   \n",
       "3        0.0974       0.0874  ...         -108.01                0.0   \n",
       "4        0.2085       0.1985  ...          -60.27                0.0   \n",
       "5        0.1314       0.1214  ...          -25.33                0.0   \n",
       "6        0.2712       0.2612  ...          -22.95                0.0   \n",
       "7        0.2019       0.1919  ...          -69.21                0.0   \n",
       "8        0.0629       0.0529  ...          -16.77                0.0   \n",
       "9        0.0629       0.0529  ...          -16.77                0.0   \n",
       "\n",
       "   LP_GrossPrincipalLoss  LP_NetPrincipalLoss LP_NonPrincipalRecoverypayments  \\\n",
       "0                    0.0                  0.0                             0.0   \n",
       "1                    0.0                  0.0                             0.0   \n",
       "2                    0.0                  0.0                             0.0   \n",
       "3                    0.0                  0.0                             0.0   \n",
       "4                    0.0                  0.0                             0.0   \n",
       "5                    0.0                  0.0                             0.0   \n",
       "6                    0.0                  0.0                             0.0   \n",
       "7                    0.0                  0.0                             0.0   \n",
       "8                    0.0                  0.0                             0.0   \n",
       "9                    0.0                  0.0                             0.0   \n",
       "\n",
       "   PercentFunded  Recommendations InvestmentFromFriendsCount  \\\n",
       "0            1.0                0                          0   \n",
       "1            1.0                0                          0   \n",
       "2            1.0                0                          0   \n",
       "3            1.0                0                          0   \n",
       "4            1.0                0                          0   \n",
       "5            1.0                0                          0   \n",
       "6            1.0                0                          0   \n",
       "7            1.0                0                          0   \n",
       "8            1.0                0                          0   \n",
       "9            1.0                0                          0   \n",
       "\n",
       "  InvestmentFromFriendsAmount Investors  \n",
       "0                         0.0       258  \n",
       "1                         0.0         1  \n",
       "2                         0.0        41  \n",
       "3                         0.0       158  \n",
       "4                         0.0        20  \n",
       "5                         0.0         1  \n",
       "6                         0.0         1  \n",
       "7                         0.0         1  \n",
       "8                         0.0         1  \n",
       "9                         0.0         1  \n",
       "\n",
       "[10 rows x 81 columns]"
      ]
     },
     "execution_count": 2,
     "metadata": {},
     "output_type": "execute_result"
    }
   ],
   "source": [
    "# Load in the dataset into a pandas dataframe\n",
    "df = pd.read_csv('prosperLoanData.csv')\n",
    "df.head(10)"
   ]
  },
  {
   "cell_type": "code",
   "execution_count": 3,
   "metadata": {},
   "outputs": [
    {
     "name": "stdout",
     "output_type": "stream",
     "text": [
      "<class 'pandas.core.frame.DataFrame'>\n",
      "RangeIndex: 113937 entries, 0 to 113936\n",
      "Data columns (total 81 columns):\n",
      " #   Column                               Non-Null Count   Dtype  \n",
      "---  ------                               --------------   -----  \n",
      " 0   ListingKey                           113937 non-null  object \n",
      " 1   ListingNumber                        113937 non-null  int64  \n",
      " 2   ListingCreationDate                  113937 non-null  object \n",
      " 3   CreditGrade                          28953 non-null   object \n",
      " 4   Term                                 113937 non-null  int64  \n",
      " 5   LoanStatus                           113937 non-null  object \n",
      " 6   ClosedDate                           55089 non-null   object \n",
      " 7   BorrowerAPR                          113912 non-null  float64\n",
      " 8   BorrowerRate                         113937 non-null  float64\n",
      " 9   LenderYield                          113937 non-null  float64\n",
      " 10  EstimatedEffectiveYield              84853 non-null   float64\n",
      " 11  EstimatedLoss                        84853 non-null   float64\n",
      " 12  EstimatedReturn                      84853 non-null   float64\n",
      " 13  ProsperRating (numeric)              84853 non-null   float64\n",
      " 14  ProsperRating (Alpha)                84853 non-null   object \n",
      " 15  ProsperScore                         84853 non-null   float64\n",
      " 16  ListingCategory (numeric)            113937 non-null  int64  \n",
      " 17  BorrowerState                        108422 non-null  object \n",
      " 18  Occupation                           110349 non-null  object \n",
      " 19  EmploymentStatus                     111682 non-null  object \n",
      " 20  EmploymentStatusDuration             106312 non-null  float64\n",
      " 21  IsBorrowerHomeowner                  113937 non-null  bool   \n",
      " 22  CurrentlyInGroup                     113937 non-null  bool   \n",
      " 23  GroupKey                             13341 non-null   object \n",
      " 24  DateCreditPulled                     113937 non-null  object \n",
      " 25  CreditScoreRangeLower                113346 non-null  float64\n",
      " 26  CreditScoreRangeUpper                113346 non-null  float64\n",
      " 27  FirstRecordedCreditLine              113240 non-null  object \n",
      " 28  CurrentCreditLines                   106333 non-null  float64\n",
      " 29  OpenCreditLines                      106333 non-null  float64\n",
      " 30  TotalCreditLinespast7years           113240 non-null  float64\n",
      " 31  OpenRevolvingAccounts                113937 non-null  int64  \n",
      " 32  OpenRevolvingMonthlyPayment          113937 non-null  float64\n",
      " 33  InquiriesLast6Months                 113240 non-null  float64\n",
      " 34  TotalInquiries                       112778 non-null  float64\n",
      " 35  CurrentDelinquencies                 113240 non-null  float64\n",
      " 36  AmountDelinquent                     106315 non-null  float64\n",
      " 37  DelinquenciesLast7Years              112947 non-null  float64\n",
      " 38  PublicRecordsLast10Years             113240 non-null  float64\n",
      " 39  PublicRecordsLast12Months            106333 non-null  float64\n",
      " 40  RevolvingCreditBalance               106333 non-null  float64\n",
      " 41  BankcardUtilization                  106333 non-null  float64\n",
      " 42  AvailableBankcardCredit              106393 non-null  float64\n",
      " 43  TotalTrades                          106393 non-null  float64\n",
      " 44  TradesNeverDelinquent (percentage)   106393 non-null  float64\n",
      " 45  TradesOpenedLast6Months              106393 non-null  float64\n",
      " 46  DebtToIncomeRatio                    105383 non-null  float64\n",
      " 47  IncomeRange                          113937 non-null  object \n",
      " 48  IncomeVerifiable                     113937 non-null  bool   \n",
      " 49  StatedMonthlyIncome                  113937 non-null  float64\n",
      " 50  LoanKey                              113937 non-null  object \n",
      " 51  TotalProsperLoans                    22085 non-null   float64\n",
      " 52  TotalProsperPaymentsBilled           22085 non-null   float64\n",
      " 53  OnTimeProsperPayments                22085 non-null   float64\n",
      " 54  ProsperPaymentsLessThanOneMonthLate  22085 non-null   float64\n",
      " 55  ProsperPaymentsOneMonthPlusLate      22085 non-null   float64\n",
      " 56  ProsperPrincipalBorrowed             22085 non-null   float64\n",
      " 57  ProsperPrincipalOutstanding          22085 non-null   float64\n",
      " 58  ScorexChangeAtTimeOfListing          18928 non-null   float64\n",
      " 59  LoanCurrentDaysDelinquent            113937 non-null  int64  \n",
      " 60  LoanFirstDefaultedCycleNumber        16952 non-null   float64\n",
      " 61  LoanMonthsSinceOrigination           113937 non-null  int64  \n",
      " 62  LoanNumber                           113937 non-null  int64  \n",
      " 63  LoanOriginalAmount                   113937 non-null  int64  \n",
      " 64  LoanOriginationDate                  113937 non-null  object \n",
      " 65  LoanOriginationQuarter               113937 non-null  object \n",
      " 66  MemberKey                            113937 non-null  object \n",
      " 67  MonthlyLoanPayment                   113937 non-null  float64\n",
      " 68  LP_CustomerPayments                  113937 non-null  float64\n",
      " 69  LP_CustomerPrincipalPayments         113937 non-null  float64\n",
      " 70  LP_InterestandFees                   113937 non-null  float64\n",
      " 71  LP_ServiceFees                       113937 non-null  float64\n",
      " 72  LP_CollectionFees                    113937 non-null  float64\n",
      " 73  LP_GrossPrincipalLoss                113937 non-null  float64\n",
      " 74  LP_NetPrincipalLoss                  113937 non-null  float64\n",
      " 75  LP_NonPrincipalRecoverypayments      113937 non-null  float64\n",
      " 76  PercentFunded                        113937 non-null  float64\n",
      " 77  Recommendations                      113937 non-null  int64  \n",
      " 78  InvestmentFromFriendsCount           113937 non-null  int64  \n",
      " 79  InvestmentFromFriendsAmount          113937 non-null  float64\n",
      " 80  Investors                            113937 non-null  int64  \n",
      "dtypes: bool(3), float64(50), int64(11), object(17)\n",
      "memory usage: 68.1+ MB\n",
      "None\n"
     ]
    }
   ],
   "source": [
    "# High-level overview of data shape and composition\n",
    "# Display all columns and data types\n",
    "pd.set_option('display.max_rows', 81)\n",
    "print(df.info())"
   ]
  },
  {
   "cell_type": "code",
   "execution_count": 4,
   "metadata": {},
   "outputs": [
    {
     "name": "stdout",
     "output_type": "stream",
     "text": [
      "(113937, 81)\n",
      "       ListingNumber           Term    BorrowerAPR   BorrowerRate  \\\n",
      "count   1.139370e+05  113937.000000  113912.000000  113937.000000   \n",
      "mean    6.278857e+05      40.830248       0.218828       0.192764   \n",
      "std     3.280762e+05      10.436212       0.080364       0.074818   \n",
      "min     4.000000e+00      12.000000       0.006530       0.000000   \n",
      "25%     4.009190e+05      36.000000       0.156290       0.134000   \n",
      "50%     6.005540e+05      36.000000       0.209760       0.184000   \n",
      "75%     8.926340e+05      36.000000       0.283810       0.250000   \n",
      "max     1.255725e+06      60.000000       0.512290       0.497500   \n",
      "\n",
      "         LenderYield  EstimatedEffectiveYield  EstimatedLoss  EstimatedReturn  \\\n",
      "count  113937.000000             84853.000000   84853.000000     84853.000000   \n",
      "mean        0.182701                 0.168661       0.080306         0.096068   \n",
      "std         0.074516                 0.068467       0.046764         0.030403   \n",
      "min        -0.010000                -0.182700       0.004900        -0.182700   \n",
      "25%         0.124200                 0.115670       0.042400         0.074080   \n",
      "50%         0.173000                 0.161500       0.072400         0.091700   \n",
      "75%         0.240000                 0.224300       0.112000         0.116600   \n",
      "max         0.492500                 0.319900       0.366000         0.283700   \n",
      "\n",
      "       ProsperRating (numeric)  ProsperScore  ...  LP_ServiceFees  \\\n",
      "count             84853.000000  84853.000000  ...   113937.000000   \n",
      "mean                  4.072243      5.950067  ...      -54.725641   \n",
      "std                   1.673227      2.376501  ...       60.675425   \n",
      "min                   1.000000      1.000000  ...     -664.870000   \n",
      "25%                   3.000000      4.000000  ...      -73.180000   \n",
      "50%                   4.000000      6.000000  ...      -34.440000   \n",
      "75%                   5.000000      8.000000  ...      -13.920000   \n",
      "max                   7.000000     11.000000  ...       32.060000   \n",
      "\n",
      "       LP_CollectionFees  LP_GrossPrincipalLoss  LP_NetPrincipalLoss  \\\n",
      "count      113937.000000          113937.000000        113937.000000   \n",
      "mean          -14.242698             700.446342           681.420499   \n",
      "std           109.232758            2388.513831          2357.167068   \n",
      "min         -9274.750000             -94.200000          -954.550000   \n",
      "25%             0.000000               0.000000             0.000000   \n",
      "50%             0.000000               0.000000             0.000000   \n",
      "75%             0.000000               0.000000             0.000000   \n",
      "max             0.000000           25000.000000         25000.000000   \n",
      "\n",
      "       LP_NonPrincipalRecoverypayments  PercentFunded  Recommendations  \\\n",
      "count                    113937.000000  113937.000000    113937.000000   \n",
      "mean                         25.142686       0.998584         0.048027   \n",
      "std                         275.657937       0.017919         0.332353   \n",
      "min                           0.000000       0.700000         0.000000   \n",
      "25%                           0.000000       1.000000         0.000000   \n",
      "50%                           0.000000       1.000000         0.000000   \n",
      "75%                           0.000000       1.000000         0.000000   \n",
      "max                       21117.900000       1.012500        39.000000   \n",
      "\n",
      "       InvestmentFromFriendsCount  InvestmentFromFriendsAmount      Investors  \n",
      "count               113937.000000                113937.000000  113937.000000  \n",
      "mean                     0.023460                    16.550751      80.475228  \n",
      "std                      0.232412                   294.545422     103.239020  \n",
      "min                      0.000000                     0.000000       1.000000  \n",
      "25%                      0.000000                     0.000000       2.000000  \n",
      "50%                      0.000000                     0.000000      44.000000  \n",
      "75%                      0.000000                     0.000000     115.000000  \n",
      "max                     33.000000                 25000.000000    1189.000000  \n",
      "\n",
      "[8 rows x 61 columns]\n"
     ]
    }
   ],
   "source": [
    "print(df.shape)\n",
    "print(df.describe())"
   ]
  },
  {
   "cell_type": "markdown",
   "metadata": {},
   "source": [
    "There are variables with a lot of null values. Also, there are many variables which seem to be of institutional use and do not bring any useful information.  \n",
    "There are many variables set as object type, which could be changed to facilitate its' usage."
   ]
  },
  {
   "cell_type": "markdown",
   "metadata": {},
   "source": [
    "### What is the structure of your dataset?\n",
    "\n",
    "The data is structured in 113,937 loan entries in which each entry has 81 different variables. These variables are mostly numeric, however there are some categorical variables. \n",
    "\n",
    "Numeric variables are mainly values indicating total loan amount, yield, payment rates and overall rates. On the other hand, categorical variables indicate dates and characteristics of the borrowers.\n",
    "\n",
    "\n",
    "### What is/are the main feature(s) of interest in your dataset?\n",
    "\n",
    "The main features of interest in the dataset is to understand what factors influence the loan's status and what factors influence the payment of the loan.\n",
    "This implies the analysis of the LoanStatus and its relation with some of the other variables.\n",
    "\n",
    "\n",
    "### What features in the dataset do you think will help support your investigation into your feature(s) of interest?\n",
    "It is expected that the LoanStatus is affected by: Term, BorrowerRate, Occupation, EmploymentStatus, IsBorrowerHomeowner, CurrentDelinquencies, DelinquenciesLast7Years, DebtToIncomeRatio, IncomeRange, StatedMonthlyIncome, LoanOriginalAmount and MonthlyLoanPayment. Moreover, I expect that completed and current status are linked with a smaller number of terms, a lower borrower rate, a positive employment status, homeownership, no delinquencies, a small debt to income ratio, high income range and monthly income.  \n"
   ]
  },
  {
   "cell_type": "markdown",
   "metadata": {},
   "source": [
    "#### Some useful modifications to the original data"
   ]
  },
  {
   "cell_type": "code",
   "execution_count": 5,
   "metadata": {},
   "outputs": [],
   "source": [
    "df_loan = df.copy()\n",
    "df_loan = df_loan.rename(columns={'ProsperRating (Alpha)': 'ProsperRating', 'ListingCategory (numeric)': 'ListingCategory'})"
   ]
  },
  {
   "cell_type": "code",
   "execution_count": 6,
   "metadata": {},
   "outputs": [
    {
     "data": {
      "text/plain": [
       "Index(['ListingKey', 'ListingNumber', 'ListingCreationDate', 'CreditGrade',\n",
       "       'Term', 'LoanStatus', 'ClosedDate', 'BorrowerAPR', 'BorrowerRate',\n",
       "       'LenderYield', 'EstimatedEffectiveYield', 'EstimatedLoss',\n",
       "       'EstimatedReturn', 'ProsperRating (numeric)', 'ProsperRating',\n",
       "       'ProsperScore', 'ListingCategory', 'BorrowerState', 'Occupation',\n",
       "       'EmploymentStatus', 'EmploymentStatusDuration', 'IsBorrowerHomeowner',\n",
       "       'CurrentlyInGroup', 'GroupKey', 'DateCreditPulled',\n",
       "       'CreditScoreRangeLower', 'CreditScoreRangeUpper',\n",
       "       'FirstRecordedCreditLine', 'CurrentCreditLines', 'OpenCreditLines',\n",
       "       'TotalCreditLinespast7years', 'OpenRevolvingAccounts',\n",
       "       'OpenRevolvingMonthlyPayment', 'InquiriesLast6Months', 'TotalInquiries',\n",
       "       'CurrentDelinquencies', 'AmountDelinquent', 'DelinquenciesLast7Years',\n",
       "       'PublicRecordsLast10Years', 'PublicRecordsLast12Months',\n",
       "       'RevolvingCreditBalance', 'BankcardUtilization',\n",
       "       'AvailableBankcardCredit', 'TotalTrades',\n",
       "       'TradesNeverDelinquent (percentage)', 'TradesOpenedLast6Months',\n",
       "       'DebtToIncomeRatio', 'IncomeRange', 'IncomeVerifiable',\n",
       "       'StatedMonthlyIncome', 'LoanKey', 'TotalProsperLoans',\n",
       "       'TotalProsperPaymentsBilled', 'OnTimeProsperPayments',\n",
       "       'ProsperPaymentsLessThanOneMonthLate',\n",
       "       'ProsperPaymentsOneMonthPlusLate', 'ProsperPrincipalBorrowed',\n",
       "       'ProsperPrincipalOutstanding', 'ScorexChangeAtTimeOfListing',\n",
       "       'LoanCurrentDaysDelinquent', 'LoanFirstDefaultedCycleNumber',\n",
       "       'LoanMonthsSinceOrigination', 'LoanNumber', 'LoanOriginalAmount',\n",
       "       'LoanOriginationDate', 'LoanOriginationQuarter', 'MemberKey',\n",
       "       'MonthlyLoanPayment', 'LP_CustomerPayments',\n",
       "       'LP_CustomerPrincipalPayments', 'LP_InterestandFees', 'LP_ServiceFees',\n",
       "       'LP_CollectionFees', 'LP_GrossPrincipalLoss', 'LP_NetPrincipalLoss',\n",
       "       'LP_NonPrincipalRecoverypayments', 'PercentFunded', 'Recommendations',\n",
       "       'InvestmentFromFriendsCount', 'InvestmentFromFriendsAmount',\n",
       "       'Investors'],\n",
       "      dtype='object')"
      ]
     },
     "execution_count": 6,
     "metadata": {},
     "output_type": "execute_result"
    }
   ],
   "source": [
    "df_loan.columns"
   ]
  },
  {
   "cell_type": "code",
   "execution_count": 7,
   "metadata": {},
   "outputs": [],
   "source": [
    "variables = ['Term', 'LoanStatus', 'BorrowerRate','LenderYield', 'ListingCategory',\n",
    "'EstimatedEffectiveYield', 'EstimatedLoss','EstimatedReturn',  'ProsperRating', \n",
    "'ProsperScore', 'Occupation', 'EmploymentStatus','IsBorrowerHomeowner',  'CurrentDelinquencies',\n",
    "             'AmountDelinquent', 'DelinquenciesLast7Years','DebtToIncomeRatio', 'IncomeRange', \n",
    "             'StatedMonthlyIncome', 'LoanOriginalAmount', 'MonthlyLoanPayment']\n",
    "not_variables = df_loan.columns[df_loan.columns.isin(variables)==False]"
   ]
  },
  {
   "cell_type": "code",
   "execution_count": 8,
   "metadata": {},
   "outputs": [
    {
     "data": {
      "text/html": [
       "<div>\n",
       "<style scoped>\n",
       "    .dataframe tbody tr th:only-of-type {\n",
       "        vertical-align: middle;\n",
       "    }\n",
       "\n",
       "    .dataframe tbody tr th {\n",
       "        vertical-align: top;\n",
       "    }\n",
       "\n",
       "    .dataframe thead th {\n",
       "        text-align: right;\n",
       "    }\n",
       "</style>\n",
       "<table border=\"1\" class=\"dataframe\">\n",
       "  <thead>\n",
       "    <tr style=\"text-align: right;\">\n",
       "      <th></th>\n",
       "      <th>Term</th>\n",
       "      <th>LoanStatus</th>\n",
       "      <th>BorrowerRate</th>\n",
       "      <th>LenderYield</th>\n",
       "      <th>EstimatedEffectiveYield</th>\n",
       "      <th>EstimatedLoss</th>\n",
       "      <th>EstimatedReturn</th>\n",
       "      <th>ProsperRating</th>\n",
       "      <th>ProsperScore</th>\n",
       "      <th>ListingCategory</th>\n",
       "      <th>...</th>\n",
       "      <th>EmploymentStatus</th>\n",
       "      <th>IsBorrowerHomeowner</th>\n",
       "      <th>CurrentDelinquencies</th>\n",
       "      <th>AmountDelinquent</th>\n",
       "      <th>DelinquenciesLast7Years</th>\n",
       "      <th>DebtToIncomeRatio</th>\n",
       "      <th>IncomeRange</th>\n",
       "      <th>StatedMonthlyIncome</th>\n",
       "      <th>LoanOriginalAmount</th>\n",
       "      <th>MonthlyLoanPayment</th>\n",
       "    </tr>\n",
       "  </thead>\n",
       "  <tbody>\n",
       "    <tr>\n",
       "      <th>0</th>\n",
       "      <td>36</td>\n",
       "      <td>Completed</td>\n",
       "      <td>0.1580</td>\n",
       "      <td>0.1380</td>\n",
       "      <td>NaN</td>\n",
       "      <td>NaN</td>\n",
       "      <td>NaN</td>\n",
       "      <td>NaN</td>\n",
       "      <td>NaN</td>\n",
       "      <td>0</td>\n",
       "      <td>...</td>\n",
       "      <td>Self-employed</td>\n",
       "      <td>True</td>\n",
       "      <td>2.0</td>\n",
       "      <td>472.0</td>\n",
       "      <td>4.0</td>\n",
       "      <td>0.17</td>\n",
       "      <td>$25,000-49,999</td>\n",
       "      <td>3083.333333</td>\n",
       "      <td>9425</td>\n",
       "      <td>330.43</td>\n",
       "    </tr>\n",
       "    <tr>\n",
       "      <th>1</th>\n",
       "      <td>36</td>\n",
       "      <td>Current</td>\n",
       "      <td>0.0920</td>\n",
       "      <td>0.0820</td>\n",
       "      <td>0.07960</td>\n",
       "      <td>0.0249</td>\n",
       "      <td>0.05470</td>\n",
       "      <td>A</td>\n",
       "      <td>7.0</td>\n",
       "      <td>2</td>\n",
       "      <td>...</td>\n",
       "      <td>Employed</td>\n",
       "      <td>False</td>\n",
       "      <td>0.0</td>\n",
       "      <td>0.0</td>\n",
       "      <td>0.0</td>\n",
       "      <td>0.18</td>\n",
       "      <td>$50,000-74,999</td>\n",
       "      <td>6125.000000</td>\n",
       "      <td>10000</td>\n",
       "      <td>318.93</td>\n",
       "    </tr>\n",
       "    <tr>\n",
       "      <th>2</th>\n",
       "      <td>36</td>\n",
       "      <td>Completed</td>\n",
       "      <td>0.2750</td>\n",
       "      <td>0.2400</td>\n",
       "      <td>NaN</td>\n",
       "      <td>NaN</td>\n",
       "      <td>NaN</td>\n",
       "      <td>NaN</td>\n",
       "      <td>NaN</td>\n",
       "      <td>0</td>\n",
       "      <td>...</td>\n",
       "      <td>Not available</td>\n",
       "      <td>False</td>\n",
       "      <td>1.0</td>\n",
       "      <td>NaN</td>\n",
       "      <td>0.0</td>\n",
       "      <td>0.06</td>\n",
       "      <td>Not displayed</td>\n",
       "      <td>2083.333333</td>\n",
       "      <td>3001</td>\n",
       "      <td>123.32</td>\n",
       "    </tr>\n",
       "    <tr>\n",
       "      <th>3</th>\n",
       "      <td>36</td>\n",
       "      <td>Current</td>\n",
       "      <td>0.0974</td>\n",
       "      <td>0.0874</td>\n",
       "      <td>0.08490</td>\n",
       "      <td>0.0249</td>\n",
       "      <td>0.06000</td>\n",
       "      <td>A</td>\n",
       "      <td>9.0</td>\n",
       "      <td>16</td>\n",
       "      <td>...</td>\n",
       "      <td>Employed</td>\n",
       "      <td>True</td>\n",
       "      <td>4.0</td>\n",
       "      <td>10056.0</td>\n",
       "      <td>14.0</td>\n",
       "      <td>0.15</td>\n",
       "      <td>$25,000-49,999</td>\n",
       "      <td>2875.000000</td>\n",
       "      <td>10000</td>\n",
       "      <td>321.45</td>\n",
       "    </tr>\n",
       "    <tr>\n",
       "      <th>4</th>\n",
       "      <td>36</td>\n",
       "      <td>Current</td>\n",
       "      <td>0.2085</td>\n",
       "      <td>0.1985</td>\n",
       "      <td>0.18316</td>\n",
       "      <td>0.0925</td>\n",
       "      <td>0.09066</td>\n",
       "      <td>D</td>\n",
       "      <td>4.0</td>\n",
       "      <td>2</td>\n",
       "      <td>...</td>\n",
       "      <td>Employed</td>\n",
       "      <td>True</td>\n",
       "      <td>0.0</td>\n",
       "      <td>0.0</td>\n",
       "      <td>0.0</td>\n",
       "      <td>0.26</td>\n",
       "      <td>$100,000+</td>\n",
       "      <td>9583.333333</td>\n",
       "      <td>15000</td>\n",
       "      <td>563.97</td>\n",
       "    </tr>\n",
       "  </tbody>\n",
       "</table>\n",
       "<p>5 rows × 21 columns</p>\n",
       "</div>"
      ],
      "text/plain": [
       "   Term LoanStatus  BorrowerRate  LenderYield  EstimatedEffectiveYield  \\\n",
       "0    36  Completed        0.1580       0.1380                      NaN   \n",
       "1    36    Current        0.0920       0.0820                  0.07960   \n",
       "2    36  Completed        0.2750       0.2400                      NaN   \n",
       "3    36    Current        0.0974       0.0874                  0.08490   \n",
       "4    36    Current        0.2085       0.1985                  0.18316   \n",
       "\n",
       "   EstimatedLoss  EstimatedReturn ProsperRating  ProsperScore  \\\n",
       "0            NaN              NaN           NaN           NaN   \n",
       "1         0.0249          0.05470             A           7.0   \n",
       "2            NaN              NaN           NaN           NaN   \n",
       "3         0.0249          0.06000             A           9.0   \n",
       "4         0.0925          0.09066             D           4.0   \n",
       "\n",
       "   ListingCategory  ... EmploymentStatus IsBorrowerHomeowner  \\\n",
       "0                0  ...    Self-employed                True   \n",
       "1                2  ...         Employed               False   \n",
       "2                0  ...    Not available               False   \n",
       "3               16  ...         Employed                True   \n",
       "4                2  ...         Employed                True   \n",
       "\n",
       "   CurrentDelinquencies  AmountDelinquent  DelinquenciesLast7Years  \\\n",
       "0                   2.0             472.0                      4.0   \n",
       "1                   0.0               0.0                      0.0   \n",
       "2                   1.0               NaN                      0.0   \n",
       "3                   4.0           10056.0                     14.0   \n",
       "4                   0.0               0.0                      0.0   \n",
       "\n",
       "   DebtToIncomeRatio     IncomeRange StatedMonthlyIncome  LoanOriginalAmount  \\\n",
       "0               0.17  $25,000-49,999         3083.333333                9425   \n",
       "1               0.18  $50,000-74,999         6125.000000               10000   \n",
       "2               0.06   Not displayed         2083.333333                3001   \n",
       "3               0.15  $25,000-49,999         2875.000000               10000   \n",
       "4               0.26       $100,000+         9583.333333               15000   \n",
       "\n",
       "   MonthlyLoanPayment  \n",
       "0              330.43  \n",
       "1              318.93  \n",
       "2              123.32  \n",
       "3              321.45  \n",
       "4              563.97  \n",
       "\n",
       "[5 rows x 21 columns]"
      ]
     },
     "execution_count": 8,
     "metadata": {},
     "output_type": "execute_result"
    }
   ],
   "source": [
    "df_loan.drop(not_variables, axis=1, inplace=True)\n",
    "df_loan.head()"
   ]
  },
  {
   "cell_type": "code",
   "execution_count": 9,
   "metadata": {},
   "outputs": [
    {
     "name": "stdout",
     "output_type": "stream",
     "text": [
      "<class 'pandas.core.frame.DataFrame'>\n",
      "RangeIndex: 113937 entries, 0 to 113936\n",
      "Data columns (total 21 columns):\n",
      " #   Column                   Non-Null Count   Dtype  \n",
      "---  ------                   --------------   -----  \n",
      " 0   Term                     113937 non-null  int64  \n",
      " 1   LoanStatus               113937 non-null  object \n",
      " 2   BorrowerRate             113937 non-null  float64\n",
      " 3   LenderYield              113937 non-null  float64\n",
      " 4   EstimatedEffectiveYield  84853 non-null   float64\n",
      " 5   EstimatedLoss            84853 non-null   float64\n",
      " 6   EstimatedReturn          84853 non-null   float64\n",
      " 7   ProsperRating            84853 non-null   object \n",
      " 8   ProsperScore             84853 non-null   float64\n",
      " 9   ListingCategory          113937 non-null  int64  \n",
      " 10  Occupation               110349 non-null  object \n",
      " 11  EmploymentStatus         111682 non-null  object \n",
      " 12  IsBorrowerHomeowner      113937 non-null  bool   \n",
      " 13  CurrentDelinquencies     113240 non-null  float64\n",
      " 14  AmountDelinquent         106315 non-null  float64\n",
      " 15  DelinquenciesLast7Years  112947 non-null  float64\n",
      " 16  DebtToIncomeRatio        105383 non-null  float64\n",
      " 17  IncomeRange              113937 non-null  object \n",
      " 18  StatedMonthlyIncome      113937 non-null  float64\n",
      " 19  LoanOriginalAmount       113937 non-null  int64  \n",
      " 20  MonthlyLoanPayment       113937 non-null  float64\n",
      "dtypes: bool(1), float64(12), int64(3), object(5)\n",
      "memory usage: 17.5+ MB\n"
     ]
    }
   ],
   "source": [
    "df_loan.info()"
   ]
  },
  {
   "cell_type": "markdown",
   "metadata": {},
   "source": [
    "There are some issues with data types:\n",
    "* LoanStatus, ProsperScore, Occupation, EmploymentStatus and IncomeRange should be categories."
   ]
  },
  {
   "cell_type": "code",
   "execution_count": 10,
   "metadata": {},
   "outputs": [],
   "source": [
    "# Fixing categories types\n",
    "# Convert IncomeRange into ordered categorical type\n",
    "income_range = ['Not displayed', 'Not employed', '$0', '$1-24,999', '$25,000-49,999', '$50,000-74,999', \n",
    "                '$75,000-99,999', '$100,000+']\n",
    "income_ranges = pd.api.types.CategoricalDtype(ordered = True, categories = income_range)\n",
    "df_loan['IncomeRange'] = df_loan['IncomeRange'].astype(income_ranges)\n",
    "\n",
    "# Convert IncomeRange into ordered categorical type\n",
    "prosper_rate = ['N/A','HR','E','D','C', 'B', 'A', 'AA']\n",
    "prosper_rates = pd.api.types.CategoricalDtype(ordered = True, categories = prosper_rate)\n",
    "df_loan['ProsperRating'] = df_loan['ProsperRating'].astype(prosper_rates)\n",
    "\n",
    "#Adjust datatype for all other categorical columns\n",
    "df_loan['LoanStatus'] = df_loan['LoanStatus'].astype('category')\n",
    "df_loan['ProsperScore'] = df_loan['ProsperScore'].astype('category')\n",
    "df_loan['Occupation'] = df_loan['Occupation'].astype('category')\n",
    "df_loan['EmploymentStatus'] = df_loan['EmploymentStatus'].astype('category')\n",
    "\n",
    "# Including definitions to ListingCategory\n",
    "df_loan['ListingCategory'].replace({0: 'Not Available',\n",
    "                                    1: 'Debt Consolidation',\n",
    "                                    2: 'Home Improvement',\n",
    "                                    3: 'Business', \n",
    "                                    4: 'Personal Loan', \n",
    "                                    5: 'Student Use', \n",
    "                                    6: 'Auto', \n",
    "                                    7: 'Other', \n",
    "                                    8: 'Baby&Adoption', \n",
    "                                    9:'Boat', \n",
    "                                    10: 'Cosmetic Procedure', \n",
    "                                    11: 'Engagement Ring', \n",
    "                                    12: 'Green Loans', \n",
    "                                    13: 'Household Expenses', \n",
    "                                    14: 'Large Purchases', \n",
    "                                    15: 'Medical/Dental', \n",
    "                                    16: 'Motorcycle', \n",
    "                                    17: 'RV', \n",
    "                                    18: 'Taxes', \n",
    "                                    19: 'Vacation', \n",
    "                                    20: 'Wedding Loans'}, inplace  = True)"
   ]
  },
  {
   "cell_type": "code",
   "execution_count": 11,
   "metadata": {},
   "outputs": [
    {
     "name": "stdout",
     "output_type": "stream",
     "text": [
      "<class 'pandas.core.frame.DataFrame'>\n",
      "RangeIndex: 113937 entries, 0 to 113936\n",
      "Data columns (total 21 columns):\n",
      " #   Column                   Non-Null Count   Dtype   \n",
      "---  ------                   --------------   -----   \n",
      " 0   Term                     113937 non-null  int64   \n",
      " 1   LoanStatus               113937 non-null  category\n",
      " 2   BorrowerRate             113937 non-null  float64 \n",
      " 3   LenderYield              113937 non-null  float64 \n",
      " 4   EstimatedEffectiveYield  84853 non-null   float64 \n",
      " 5   EstimatedLoss            84853 non-null   float64 \n",
      " 6   EstimatedReturn          84853 non-null   float64 \n",
      " 7   ProsperRating            84853 non-null   category\n",
      " 8   ProsperScore             84853 non-null   category\n",
      " 9   ListingCategory          113937 non-null  object  \n",
      " 10  Occupation               110349 non-null  category\n",
      " 11  EmploymentStatus         111682 non-null  category\n",
      " 12  IsBorrowerHomeowner      113937 non-null  bool    \n",
      " 13  CurrentDelinquencies     113240 non-null  float64 \n",
      " 14  AmountDelinquent         106315 non-null  float64 \n",
      " 15  DelinquenciesLast7Years  112947 non-null  float64 \n",
      " 16  DebtToIncomeRatio        105383 non-null  float64 \n",
      " 17  IncomeRange              113937 non-null  category\n",
      " 18  StatedMonthlyIncome      113937 non-null  float64 \n",
      " 19  LoanOriginalAmount       113937 non-null  int64   \n",
      " 20  MonthlyLoanPayment       113937 non-null  float64 \n",
      "dtypes: bool(1), category(6), float64(11), int64(2), object(1)\n",
      "memory usage: 12.9+ MB\n"
     ]
    }
   ],
   "source": [
    "df_loan.info()"
   ]
  },
  {
   "cell_type": "markdown",
   "metadata": {},
   "source": [
    "## Univariate Exploration\n",
    "\n"
   ]
  },
  {
   "cell_type": "code",
   "execution_count": 12,
   "metadata": {},
   "outputs": [
    {
     "data": {
      "image/png": "[encoded data removed]",
      "text/plain": [
       "<Figure size 576x576 with 1 Axes>"
      ]
     },
     "metadata": {
      "needs_background": "light"
     },
     "output_type": "display_data"
    }
   ],
   "source": [
    "# The main reasons people take loans\n",
    "fig, ax = plt.subplots(figsize = [8,8])\n",
    "\n",
    "default_color = sb.color_palette()[0]\n",
    "sb.countplot(data = df_loan, y = 'ListingCategory', color = default_color, order = df_loan['ListingCategory'].value_counts().index)\n",
    "\n",
    "plt.show()"
   ]
  },
  {
   "cell_type": "markdown",
   "metadata": {},
   "source": [
    "The most frequent reason for someone taking a loan is debt consolidation."
   ]
  },
  {
   "cell_type": "code",
   "execution_count": 13,
   "metadata": {},
   "outputs": [
    {
     "data": {
      "image/png": "[encoded data removed]",
      "text/plain": [
       "<Figure size 576x576 with 1 Axes>"
      ]
     },
     "metadata": {
      "needs_background": "light"
     },
     "output_type": "display_data"
    }
   ],
   "source": [
    "# First, I want to observe to distribution of loan status in the dataset.\n",
    "fig, ax = plt.subplots(figsize = [8,8])\n",
    "\n",
    "default_color = sb.color_palette()[0]\n",
    "sb.countplot(data = df_loan, y = 'LoanStatus', color = default_color)\n",
    "\n",
    "plt.show()"
   ]
  },
  {
   "cell_type": "markdown",
   "metadata": {},
   "source": [
    "It is possible to observe that the majority of loans are current and this value is followed by loans which were completed.  \n",
    "It is possible to observe a considerable number of charged-off and defaulted loans.    \n",
    "It is not possible to have a clean observation of past due loans, which need a closer look.\n",
    "\n",
    "Loans that are defaulted and charged off will be directly linked to \"bad payers\". This is so because loans in \"default\" are those in which borrower is not paying for an extended period of time and loans \"charged off\" are no longer expected to be payed. [1]\n",
    "\n",
    "[1] https://help.lendingclub.com/hc/en-us/articles/216127747-What-is-the-difference-between-a-loan-that-is-in-default-and-a-loan-that-has-been-charged-off-"
   ]
  },
  {
   "cell_type": "code",
   "execution_count": 14,
   "metadata": {},
   "outputs": [
    {
     "data": {
      "image/png": "[encoded data removed]",
      "text/plain": [
       "<Figure size 576x576 with 1 Axes>"
      ]
     },
     "metadata": {
      "needs_background": "light"
     },
     "output_type": "display_data"
    }
   ],
   "source": [
    "past_due = ['Past Due (1-15 days)', 'Past Due (16-30 days)', 'Past Due (61-90 days)', 'Past Due (31-60 days)', 'Past Due (91-120 days)', 'Past Due (>120 days)']\n",
    "\n",
    "fig, ax = plt.subplots(figsize = [8,8])\n",
    "\n",
    "default_color = sb.color_palette()[0]\n",
    "sb.countplot(data = df_loan[df_loan.LoanStatus.isin(past_due)], y = 'LoanStatus', color = default_color)\n",
    "plt.ylim(5.5,11.5)\n",
    "plt.show();"
   ]
  },
  {
   "cell_type": "markdown",
   "metadata": {},
   "source": [
    "Here it is possible to see that majority of past due loans are within 15 days.  \n",
    "As delinquents are considered to be those that exceed 30 past due days [2], therefore will be considered delinquents those with Loan Status:\n",
    "* Defaulted \n",
    "* Chargedoff\n",
    "* Past Due (31-60 days)\n",
    "* Past Due (61-90 days)\n",
    "* Past Due (91-120 days)\n",
    "* Past Due (>120 days)'\n",
    "\n",
    "[2] https://www.investopedia.com/terms/p/past-due.asp"
   ]
  },
  {
   "cell_type": "code",
   "execution_count": 15,
   "metadata": {},
   "outputs": [
    {
     "data": {
      "image/png": "[encoded data removed]",
      "text/plain": [
       "<Figure size 576x576 with 1 Axes>"
      ]
     },
     "metadata": {
      "needs_background": "light"
     },
     "output_type": "display_data"
    }
   ],
   "source": [
    "# Now, let's give a look in the EmploymentStatus in order to understand if borrowers have any source of money\n",
    "# to pay the loan.\n",
    "fig, ax = plt.subplots(figsize = [8,8])\n",
    "\n",
    "default_color = sb.color_palette()[0]\n",
    "sb.countplot(data = df_loan, y = 'EmploymentStatus', color = default_color,  order = df_loan['EmploymentStatus'].value_counts().index)\n",
    "\n",
    "plt.show()"
   ]
  },
  {
   "cell_type": "markdown",
   "metadata": {},
   "source": [
    "Here, it is possible to noticed that majority of borrowers are employed."
   ]
  },
  {
   "cell_type": "code",
   "execution_count": 16,
   "metadata": {},
   "outputs": [
    {
     "data": {
      "image/png": "[encoded data removed]",
      "text/plain": [
       "<Figure size 1080x1080 with 1 Axes>"
      ]
     },
     "metadata": {
      "needs_background": "light"
     },
     "output_type": "display_data"
    }
   ],
   "source": [
    "# Understand what are the main occupation among borrowers\n",
    "fig, ax = plt.subplots(figsize = [15,15])\n",
    "\n",
    "default_color = sb.color_palette()[0]\n",
    "sb.countplot(data = df_loan, y = 'Occupation', color = default_color,  order = df_loan['Occupation'].value_counts().index)\n",
    "plt.show();"
   ]
  },
  {
   "cell_type": "code",
   "execution_count": 17,
   "metadata": {},
   "outputs": [
    {
     "data": {
      "image/png": "[encoded data removed]",
      "text/plain": [
       "<Figure size 576x576 with 1 Axes>"
      ]
     },
     "metadata": {
      "needs_background": "light"
     },
     "output_type": "display_data"
    }
   ],
   "source": [
    "# Now, let's try to investigate if borrowers are homeowners, as this information could be an indication of stability \n",
    "# and a higher likelihood to pay the loan.\n",
    "fig, ax = plt.subplots(figsize = [8,8])\n",
    "\n",
    "default_color = sb.color_palette()[0]\n",
    "sb.countplot(data = df_loan, x = 'IsBorrowerHomeowner', color = default_color)\n",
    "\n",
    "plt.show()"
   ]
  },
  {
   "cell_type": "markdown",
   "metadata": {},
   "source": [
    "The number of borrowers that do and do not own a house is similar."
   ]
  },
  {
   "cell_type": "code",
   "execution_count": 18,
   "metadata": {},
   "outputs": [
    {
     "data": {
      "image/png": "[encoded data removed]",
      "text/plain": [
       "<Figure size 1440x720 with 1 Axes>"
      ]
     },
     "metadata": {
      "needs_background": "light"
     },
     "output_type": "display_data"
    }
   ],
   "source": [
    "# Distribution of number of delinquencies each borrower has:\n",
    "\n",
    "fig, ax = plt.subplots(figsize = [20,10])\n",
    "ticks = np.arange(0, df_loan.CurrentDelinquencies.max()+1,1).astype(int)\n",
    "default_color = sb.color_palette()[0]\n",
    "sb.countplot(data = df_loan, x = 'CurrentDelinquencies', color = default_color)\n",
    "plt.xlabel('Number of accounts delinquent')\n",
    "plt.xticks(ticks, ticks)\n",
    "plt.show()"
   ]
  },
  {
   "cell_type": "code",
   "execution_count": 19,
   "metadata": {},
   "outputs": [
    {
     "data": {
      "text/html": [
       "<div>\n",
       "<style scoped>\n",
       "    .dataframe tbody tr th:only-of-type {\n",
       "        vertical-align: middle;\n",
       "    }\n",
       "\n",
       "    .dataframe tbody tr th {\n",
       "        vertical-align: top;\n",
       "    }\n",
       "\n",
       "    .dataframe thead th {\n",
       "        text-align: right;\n",
       "    }\n",
       "</style>\n",
       "<table border=\"1\" class=\"dataframe\">\n",
       "  <thead>\n",
       "    <tr style=\"text-align: right;\">\n",
       "      <th></th>\n",
       "      <th>Term</th>\n",
       "      <th>LoanStatus</th>\n",
       "      <th>BorrowerRate</th>\n",
       "      <th>LenderYield</th>\n",
       "      <th>EstimatedEffectiveYield</th>\n",
       "      <th>EstimatedLoss</th>\n",
       "      <th>EstimatedReturn</th>\n",
       "      <th>ProsperRating</th>\n",
       "      <th>ProsperScore</th>\n",
       "      <th>ListingCategory</th>\n",
       "      <th>...</th>\n",
       "      <th>EmploymentStatus</th>\n",
       "      <th>IsBorrowerHomeowner</th>\n",
       "      <th>CurrentDelinquencies</th>\n",
       "      <th>AmountDelinquent</th>\n",
       "      <th>DelinquenciesLast7Years</th>\n",
       "      <th>DebtToIncomeRatio</th>\n",
       "      <th>IncomeRange</th>\n",
       "      <th>StatedMonthlyIncome</th>\n",
       "      <th>LoanOriginalAmount</th>\n",
       "      <th>MonthlyLoanPayment</th>\n",
       "    </tr>\n",
       "  </thead>\n",
       "  <tbody>\n",
       "    <tr>\n",
       "      <th>42</th>\n",
       "      <td>36</td>\n",
       "      <td>Chargedoff</td>\n",
       "      <td>0.2900</td>\n",
       "      <td>0.2850</td>\n",
       "      <td>NaN</td>\n",
       "      <td>NaN</td>\n",
       "      <td>NaN</td>\n",
       "      <td>NaN</td>\n",
       "      <td>NaN</td>\n",
       "      <td>Not Available</td>\n",
       "      <td>...</td>\n",
       "      <td>Not available</td>\n",
       "      <td>False</td>\n",
       "      <td>14.0</td>\n",
       "      <td>NaN</td>\n",
       "      <td>3.0</td>\n",
       "      <td>0.27</td>\n",
       "      <td>Not displayed</td>\n",
       "      <td>416.666667</td>\n",
       "      <td>1500</td>\n",
       "      <td>62.86</td>\n",
       "    </tr>\n",
       "    <tr>\n",
       "      <th>61</th>\n",
       "      <td>36</td>\n",
       "      <td>Current</td>\n",
       "      <td>0.1274</td>\n",
       "      <td>0.1174</td>\n",
       "      <td>0.1121</td>\n",
       "      <td>0.0424</td>\n",
       "      <td>0.0697</td>\n",
       "      <td>B</td>\n",
       "      <td>8.0</td>\n",
       "      <td>Vacation</td>\n",
       "      <td>...</td>\n",
       "      <td>Employed</td>\n",
       "      <td>True</td>\n",
       "      <td>20.0</td>\n",
       "      <td>72705.0</td>\n",
       "      <td>72.0</td>\n",
       "      <td>0.03</td>\n",
       "      <td>$75,000-99,999</td>\n",
       "      <td>7108.333333</td>\n",
       "      <td>2000</td>\n",
       "      <td>67.14</td>\n",
       "    </tr>\n",
       "    <tr>\n",
       "      <th>113</th>\n",
       "      <td>36</td>\n",
       "      <td>Completed</td>\n",
       "      <td>0.2900</td>\n",
       "      <td>0.2800</td>\n",
       "      <td>NaN</td>\n",
       "      <td>NaN</td>\n",
       "      <td>NaN</td>\n",
       "      <td>NaN</td>\n",
       "      <td>NaN</td>\n",
       "      <td>Not Available</td>\n",
       "      <td>...</td>\n",
       "      <td>Self-employed</td>\n",
       "      <td>False</td>\n",
       "      <td>13.0</td>\n",
       "      <td>6059.0</td>\n",
       "      <td>25.0</td>\n",
       "      <td>0.04</td>\n",
       "      <td>$50,000-74,999</td>\n",
       "      <td>4166.666667</td>\n",
       "      <td>3000</td>\n",
       "      <td>0.00</td>\n",
       "    </tr>\n",
       "    <tr>\n",
       "      <th>247</th>\n",
       "      <td>36</td>\n",
       "      <td>Completed</td>\n",
       "      <td>0.1775</td>\n",
       "      <td>0.1725</td>\n",
       "      <td>NaN</td>\n",
       "      <td>NaN</td>\n",
       "      <td>NaN</td>\n",
       "      <td>NaN</td>\n",
       "      <td>NaN</td>\n",
       "      <td>Not Available</td>\n",
       "      <td>...</td>\n",
       "      <td>NaN</td>\n",
       "      <td>False</td>\n",
       "      <td>14.0</td>\n",
       "      <td>NaN</td>\n",
       "      <td>38.0</td>\n",
       "      <td>0.12</td>\n",
       "      <td>Not displayed</td>\n",
       "      <td>2666.666667</td>\n",
       "      <td>1000</td>\n",
       "      <td>27.61</td>\n",
       "    </tr>\n",
       "    <tr>\n",
       "      <th>252</th>\n",
       "      <td>36</td>\n",
       "      <td>Chargedoff</td>\n",
       "      <td>0.2900</td>\n",
       "      <td>0.2850</td>\n",
       "      <td>NaN</td>\n",
       "      <td>NaN</td>\n",
       "      <td>NaN</td>\n",
       "      <td>NaN</td>\n",
       "      <td>NaN</td>\n",
       "      <td>Not Available</td>\n",
       "      <td>...</td>\n",
       "      <td>Not available</td>\n",
       "      <td>False</td>\n",
       "      <td>11.0</td>\n",
       "      <td>NaN</td>\n",
       "      <td>32.0</td>\n",
       "      <td>0.09</td>\n",
       "      <td>Not displayed</td>\n",
       "      <td>2116.666667</td>\n",
       "      <td>2100</td>\n",
       "      <td>88.00</td>\n",
       "    </tr>\n",
       "    <tr>\n",
       "      <th>...</th>\n",
       "      <td>...</td>\n",
       "      <td>...</td>\n",
       "      <td>...</td>\n",
       "      <td>...</td>\n",
       "      <td>...</td>\n",
       "      <td>...</td>\n",
       "      <td>...</td>\n",
       "      <td>...</td>\n",
       "      <td>...</td>\n",
       "      <td>...</td>\n",
       "      <td>...</td>\n",
       "      <td>...</td>\n",
       "      <td>...</td>\n",
       "      <td>...</td>\n",
       "      <td>...</td>\n",
       "      <td>...</td>\n",
       "      <td>...</td>\n",
       "      <td>...</td>\n",
       "      <td>...</td>\n",
       "      <td>...</td>\n",
       "      <td>...</td>\n",
       "    </tr>\n",
       "    <tr>\n",
       "      <th>113531</th>\n",
       "      <td>36</td>\n",
       "      <td>Defaulted</td>\n",
       "      <td>0.2000</td>\n",
       "      <td>0.1550</td>\n",
       "      <td>NaN</td>\n",
       "      <td>NaN</td>\n",
       "      <td>NaN</td>\n",
       "      <td>NaN</td>\n",
       "      <td>NaN</td>\n",
       "      <td>Not Available</td>\n",
       "      <td>...</td>\n",
       "      <td>Not available</td>\n",
       "      <td>False</td>\n",
       "      <td>16.0</td>\n",
       "      <td>NaN</td>\n",
       "      <td>7.0</td>\n",
       "      <td>0.20</td>\n",
       "      <td>Not displayed</td>\n",
       "      <td>2000.000000</td>\n",
       "      <td>1000</td>\n",
       "      <td>37.16</td>\n",
       "    </tr>\n",
       "    <tr>\n",
       "      <th>113576</th>\n",
       "      <td>36</td>\n",
       "      <td>Chargedoff</td>\n",
       "      <td>0.1955</td>\n",
       "      <td>0.1855</td>\n",
       "      <td>NaN</td>\n",
       "      <td>NaN</td>\n",
       "      <td>NaN</td>\n",
       "      <td>NaN</td>\n",
       "      <td>NaN</td>\n",
       "      <td>Not Available</td>\n",
       "      <td>...</td>\n",
       "      <td>Full-time</td>\n",
       "      <td>False</td>\n",
       "      <td>11.0</td>\n",
       "      <td>2310.0</td>\n",
       "      <td>25.0</td>\n",
       "      <td>0.06</td>\n",
       "      <td>$25,000-49,999</td>\n",
       "      <td>2510.666667</td>\n",
       "      <td>1000</td>\n",
       "      <td>36.93</td>\n",
       "    </tr>\n",
       "    <tr>\n",
       "      <th>113598</th>\n",
       "      <td>36</td>\n",
       "      <td>Chargedoff</td>\n",
       "      <td>0.2300</td>\n",
       "      <td>0.2200</td>\n",
       "      <td>NaN</td>\n",
       "      <td>NaN</td>\n",
       "      <td>NaN</td>\n",
       "      <td>NaN</td>\n",
       "      <td>NaN</td>\n",
       "      <td>Not Available</td>\n",
       "      <td>...</td>\n",
       "      <td>Full-time</td>\n",
       "      <td>False</td>\n",
       "      <td>20.0</td>\n",
       "      <td>6371.0</td>\n",
       "      <td>11.0</td>\n",
       "      <td>0.51</td>\n",
       "      <td>$25,000-49,999</td>\n",
       "      <td>2166.666667</td>\n",
       "      <td>1500</td>\n",
       "      <td>58.06</td>\n",
       "    </tr>\n",
       "    <tr>\n",
       "      <th>113804</th>\n",
       "      <td>36</td>\n",
       "      <td>Completed</td>\n",
       "      <td>0.2500</td>\n",
       "      <td>0.2400</td>\n",
       "      <td>NaN</td>\n",
       "      <td>NaN</td>\n",
       "      <td>NaN</td>\n",
       "      <td>NaN</td>\n",
       "      <td>NaN</td>\n",
       "      <td>Debt Consolidation</td>\n",
       "      <td>...</td>\n",
       "      <td>Full-time</td>\n",
       "      <td>False</td>\n",
       "      <td>23.0</td>\n",
       "      <td>38660.0</td>\n",
       "      <td>62.0</td>\n",
       "      <td>0.09</td>\n",
       "      <td>$100,000+</td>\n",
       "      <td>13333.333333</td>\n",
       "      <td>5000</td>\n",
       "      <td>198.80</td>\n",
       "    </tr>\n",
       "    <tr>\n",
       "      <th>113926</th>\n",
       "      <td>36</td>\n",
       "      <td>Defaulted</td>\n",
       "      <td>0.2900</td>\n",
       "      <td>0.2850</td>\n",
       "      <td>NaN</td>\n",
       "      <td>NaN</td>\n",
       "      <td>NaN</td>\n",
       "      <td>NaN</td>\n",
       "      <td>NaN</td>\n",
       "      <td>Not Available</td>\n",
       "      <td>...</td>\n",
       "      <td>Not available</td>\n",
       "      <td>False</td>\n",
       "      <td>18.0</td>\n",
       "      <td>NaN</td>\n",
       "      <td>18.0</td>\n",
       "      <td>0.07</td>\n",
       "      <td>Not displayed</td>\n",
       "      <td>5416.666667</td>\n",
       "      <td>3000</td>\n",
       "      <td>125.72</td>\n",
       "    </tr>\n",
       "  </tbody>\n",
       "</table>\n",
       "<p>927 rows × 21 columns</p>\n",
       "</div>"
      ],
      "text/plain": [
       "        Term  LoanStatus  BorrowerRate  LenderYield  EstimatedEffectiveYield  \\\n",
       "42        36  Chargedoff        0.2900       0.2850                      NaN   \n",
       "61        36     Current        0.1274       0.1174                   0.1121   \n",
       "113       36   Completed        0.2900       0.2800                      NaN   \n",
       "247       36   Completed        0.1775       0.1725                      NaN   \n",
       "252       36  Chargedoff        0.2900       0.2850                      NaN   \n",
       "...      ...         ...           ...          ...                      ...   \n",
       "113531    36   Defaulted        0.2000       0.1550                      NaN   \n",
       "113576    36  Chargedoff        0.1955       0.1855                      NaN   \n",
       "113598    36  Chargedoff        0.2300       0.2200                      NaN   \n",
       "113804    36   Completed        0.2500       0.2400                      NaN   \n",
       "113926    36   Defaulted        0.2900       0.2850                      NaN   \n",
       "\n",
       "        EstimatedLoss  EstimatedReturn ProsperRating ProsperScore  \\\n",
       "42                NaN              NaN           NaN          NaN   \n",
       "61             0.0424           0.0697             B          8.0   \n",
       "113               NaN              NaN           NaN          NaN   \n",
       "247               NaN              NaN           NaN          NaN   \n",
       "252               NaN              NaN           NaN          NaN   \n",
       "...               ...              ...           ...          ...   \n",
       "113531            NaN              NaN           NaN          NaN   \n",
       "113576            NaN              NaN           NaN          NaN   \n",
       "113598            NaN              NaN           NaN          NaN   \n",
       "113804            NaN              NaN           NaN          NaN   \n",
       "113926            NaN              NaN           NaN          NaN   \n",
       "\n",
       "           ListingCategory  ... EmploymentStatus IsBorrowerHomeowner  \\\n",
       "42           Not Available  ...    Not available               False   \n",
       "61                Vacation  ...         Employed                True   \n",
       "113          Not Available  ...    Self-employed               False   \n",
       "247          Not Available  ...              NaN               False   \n",
       "252          Not Available  ...    Not available               False   \n",
       "...                    ...  ...              ...                 ...   \n",
       "113531       Not Available  ...    Not available               False   \n",
       "113576       Not Available  ...        Full-time               False   \n",
       "113598       Not Available  ...        Full-time               False   \n",
       "113804  Debt Consolidation  ...        Full-time               False   \n",
       "113926       Not Available  ...    Not available               False   \n",
       "\n",
       "        CurrentDelinquencies  AmountDelinquent  DelinquenciesLast7Years  \\\n",
       "42                      14.0               NaN                      3.0   \n",
       "61                      20.0           72705.0                     72.0   \n",
       "113                     13.0            6059.0                     25.0   \n",
       "247                     14.0               NaN                     38.0   \n",
       "252                     11.0               NaN                     32.0   \n",
       "...                      ...               ...                      ...   \n",
       "113531                  16.0               NaN                      7.0   \n",
       "113576                  11.0            2310.0                     25.0   \n",
       "113598                  20.0            6371.0                     11.0   \n",
       "113804                  23.0           38660.0                     62.0   \n",
       "113926                  18.0               NaN                     18.0   \n",
       "\n",
       "        DebtToIncomeRatio     IncomeRange StatedMonthlyIncome  \\\n",
       "42                   0.27   Not displayed          416.666667   \n",
       "61                   0.03  $75,000-99,999         7108.333333   \n",
       "113                  0.04  $50,000-74,999         4166.666667   \n",
       "247                  0.12   Not displayed         2666.666667   \n",
       "252                  0.09   Not displayed         2116.666667   \n",
       "...                   ...             ...                 ...   \n",
       "113531               0.20   Not displayed         2000.000000   \n",
       "113576               0.06  $25,000-49,999         2510.666667   \n",
       "113598               0.51  $25,000-49,999         2166.666667   \n",
       "113804               0.09       $100,000+        13333.333333   \n",
       "113926               0.07   Not displayed         5416.666667   \n",
       "\n",
       "        LoanOriginalAmount  MonthlyLoanPayment  \n",
       "42                    1500               62.86  \n",
       "61                    2000               67.14  \n",
       "113                   3000                0.00  \n",
       "247                   1000               27.61  \n",
       "252                   2100               88.00  \n",
       "...                    ...                 ...  \n",
       "113531                1000               37.16  \n",
       "113576                1000               36.93  \n",
       "113598                1500               58.06  \n",
       "113804                5000              198.80  \n",
       "113926                3000              125.72  \n",
       "\n",
       "[927 rows x 21 columns]"
      ]
     },
     "execution_count": 19,
     "metadata": {},
     "output_type": "execute_result"
    }
   ],
   "source": [
    "df_loan[df_loan['CurrentDelinquencies'] > 10]"
   ]
  },
  {
   "cell_type": "markdown",
   "metadata": {},
   "source": [
    "Most borrowers have no delinquent accounts.  \n",
    "We can also observe that those with high number of current delinquencies are quite few compared to the total number of borrowers."
   ]
  },
  {
   "cell_type": "code",
   "execution_count": 20,
   "metadata": {},
   "outputs": [
    {
     "data": {
      "image/png": "[encoded data removed]",
      "text/plain": [
       "<Figure size 1440x720 with 1 Axes>"
      ]
     },
     "metadata": {
      "needs_background": "light"
     },
     "output_type": "display_data"
    }
   ],
   "source": [
    "# Distribution of number of delinquencies in the last 7 years:\n",
    "\n",
    "fig, ax = plt.subplots(figsize = [20,10])\n",
    "ticks = np.arange(0, df_loan.DelinquenciesLast7Years.max()+1,1).astype(int)\n",
    "default_color = sb.color_palette()[0]\n",
    "sb.countplot(data = df_loan, x = 'DelinquenciesLast7Years', color = default_color)\n",
    "plt.xlabel('Number of delinquencies in the last 7 years')\n",
    "plt.xticks(ticks, ticks)\n",
    "plt.show()"
   ]
  },
  {
   "cell_type": "code",
   "execution_count": 21,
   "metadata": {},
   "outputs": [
    {
     "data": {
      "text/plain": [
       "0    1.0\n",
       "dtype: float64"
      ]
     },
     "execution_count": 21,
     "metadata": {},
     "output_type": "execute_result"
    }
   ],
   "source": [
    "df_loan[df_loan['DelinquenciesLast7Years']!=0].DelinquenciesLast7Years.mode()"
   ]
  },
  {
   "cell_type": "markdown",
   "metadata": {},
   "source": [
    "Most borrowers have no delinquencies in the last 7 years. Accounting for only those with delinquencies, the mode is 1 delinquency in the last 7 years."
   ]
  },
  {
   "cell_type": "code",
   "execution_count": 22,
   "metadata": {
    "scrolled": true
   },
   "outputs": [
    {
     "data": {
      "image/png": "[encoded data removed]",
      "text/plain": [
       "<Figure size 576x360 with 1 Axes>"
      ]
     },
     "metadata": {
      "needs_background": "light"
     },
     "output_type": "display_data"
    }
   ],
   "source": [
    "# Distribution of debt to income ratio\n",
    "bins = np.arange(0, df_loan['DebtToIncomeRatio'].max()+0.01, 0.01)\n",
    "plt.figure(figsize=[8, 5])\n",
    "plt.hist(data = df_loan, x = 'DebtToIncomeRatio', bins =bins)\n",
    "plt.xlabel('The debt to income ratio')\n",
    "plt.xlim(0,2)\n",
    "plt.show()"
   ]
  },
  {
   "cell_type": "markdown",
   "metadata": {},
   "source": [
    "The debt to income ratio is right-skewed and it indicates that the majority of borrowers have a debt that is smaller than their income."
   ]
  },
  {
   "cell_type": "code",
   "execution_count": 23,
   "metadata": {
    "scrolled": true
   },
   "outputs": [
    {
     "data": {
      "image/png": "[encoded data removed]",
      "text/plain": [
       "<Figure size 1440x720 with 1 Axes>"
      ]
     },
     "metadata": {
      "needs_background": "light"
     },
     "output_type": "display_data"
    }
   ],
   "source": [
    "# Distribution of income range\n",
    "fig, ax = plt.subplots(figsize = [20,10])\n",
    "default_color = sb.color_palette()[0]\n",
    "sb.countplot(data = df_loan, x = 'IncomeRange', color = default_color)\n",
    "plt.xlabel('Income Range')\n",
    "plt.show()"
   ]
  },
  {
   "cell_type": "markdown",
   "metadata": {},
   "source": [
    "Most of borrowers earn between more than \\$25,000, and most of borrowers earn in range between \\\\$25,000 and \\\\$49,999."
   ]
  },
  {
   "cell_type": "code",
   "execution_count": 24,
   "metadata": {
    "scrolled": true
   },
   "outputs": [
    {
     "data": {
      "image/png": "[encoded data removed]",
      "text/plain": [
       "<Figure size 576x360 with 1 Axes>"
      ]
     },
     "metadata": {
      "needs_background": "light"
     },
     "output_type": "display_data"
    }
   ],
   "source": [
    "# Distribution of Stated Monthly Income \n",
    "x_ticks = [500, 1000, 5000, 10000, 50000, 100000]\n",
    "log_binsize = 0.04\n",
    "bins = 10 ** np.arange(1, np.log10(df_loan['StatedMonthlyIncome'].max())+log_binsize, log_binsize)\n",
    "plt.figure(figsize=[8, 5])\n",
    "plt.hist(data = df_loan, x = 'StatedMonthlyIncome', bins =bins)\n",
    "plt.xlabel('Stated Monthly Income')\n",
    "plt.xscale('log')\n",
    "plt.xticks(x_ticks, x_ticks)\n",
    "plt.xlim(400,80000)\n",
    "plt.show()"
   ]
  },
  {
   "cell_type": "code",
   "execution_count": 25,
   "metadata": {},
   "outputs": [
    {
     "name": "stdout",
     "output_type": "stream",
     "text": [
      "5608.025568224836\n"
     ]
    }
   ],
   "source": [
    "print(df_loan['StatedMonthlyIncome'].mean())"
   ]
  },
  {
   "cell_type": "markdown",
   "metadata": {},
   "source": [
    "The distribution looks normal distribution, with a mean monthly income of $5608.02."
   ]
  },
  {
   "cell_type": "code",
   "execution_count": 26,
   "metadata": {},
   "outputs": [
    {
     "data": {
      "image/png": "[encoded data removed]",
      "text/plain": [
       "<Figure size 576x360 with 1 Axes>"
      ]
     },
     "metadata": {
      "needs_background": "light"
     },
     "output_type": "display_data"
    }
   ],
   "source": [
    "# Distribution of Loans initial amount:\n",
    "x_ticks = [1000, 2000,4000, 10000,15000,20000]\n",
    "bins = np.arange(0, df['LoanOriginalAmount'].max()+500, 500)\n",
    "plt.figure(figsize=[8, 5])\n",
    "plt.hist(data = df_loan, x = 'LoanOriginalAmount', bins =bins)\n",
    "plt.xlabel('Loan Original Amount')\n",
    "plt.xlim(800,30000)\n",
    "plt.show();"
   ]
  },
  {
   "cell_type": "markdown",
   "metadata": {},
   "source": [
    "It is possible to notice some peaks of values in the distribution around \\$4,000, \\\\$10,000 and \\\\$15,000."
   ]
  },
  {
   "cell_type": "code",
   "execution_count": 27,
   "metadata": {},
   "outputs": [
    {
     "data": {
      "image/png": "[encoded data removed]",
      "text/plain": [
       "<Figure size 576x360 with 1 Axes>"
      ]
     },
     "metadata": {
      "needs_background": "light"
     },
     "output_type": "display_data"
    }
   ],
   "source": [
    "# Distribution of Monthly Loan Payment \n",
    "x_ticks = [10, 20, 50, 100, 200, 500, 1000, 2000]\n",
    "log_binsize = 0.025\n",
    "bins = 10 ** np.arange(1, np.log10(df_loan['MonthlyLoanPayment'].max())+log_binsize, log_binsize)\n",
    "plt.figure(figsize=[8, 5])\n",
    "plt.hist(data = df_loan, x = 'MonthlyLoanPayment', bins =bins)\n",
    "plt.xlabel('Monthly Loan Payment')\n",
    "plt.xscale('log')\n",
    "plt.xticks(x_ticks, x_ticks)\n",
    "plt.show()"
   ]
  },
  {
   "cell_type": "code",
   "execution_count": 28,
   "metadata": {},
   "outputs": [
    {
     "name": "stdout",
     "output_type": "stream",
     "text": [
      "272.47578310823104\n",
      "0    173.71\n",
      "dtype: float64\n"
     ]
    }
   ],
   "source": [
    "print(df_loan['MonthlyLoanPayment'].mean())\n",
    "print(df_loan['MonthlyLoanPayment'].mode())"
   ]
  },
  {
   "cell_type": "markdown",
   "metadata": {},
   "source": [
    "The distribution a little bimodal, with a peak between \\$100 and \\\\$200."
   ]
  },
  {
   "cell_type": "code",
   "execution_count": 29,
   "metadata": {},
   "outputs": [
    {
     "data": {
      "image/png": "[encoded data removed]",
      "text/plain": [
       "<Figure size 1440x720 with 1 Axes>"
      ]
     },
     "metadata": {
      "needs_background": "light"
     },
     "output_type": "display_data"
    }
   ],
   "source": [
    "# Distribution of number of terms:\n",
    "fig, ax = plt.subplots(figsize = [20,10])\n",
    "default_color = sb.color_palette()[0]\n",
    "sb.countplot(data = df_loan, x = 'Term', color = default_color)\n",
    "plt.xlabel('Number of terms')\n",
    "plt.show()"
   ]
  },
  {
   "cell_type": "markdown",
   "metadata": {},
   "source": [
    "Most loans are 36 months long."
   ]
  },
  {
   "cell_type": "code",
   "execution_count": 30,
   "metadata": {},
   "outputs": [
    {
     "data": {
      "image/png": "[encoded data removed]",
      "text/plain": [
       "<Figure size 1440x720 with 1 Axes>"
      ]
     },
     "metadata": {
      "needs_background": "light"
     },
     "output_type": "display_data"
    }
   ],
   "source": [
    "# Distribution of ratings\n",
    "fig, ax = plt.subplots(figsize = [20,10])\n",
    "default_color = sb.color_palette()[0]\n",
    "sb.countplot(data = df_loan, x = 'ProsperRating', color = default_color)\n",
    "plt.xlabel('Prosper Ratings')\n",
    "plt.show()"
   ]
  },
  {
   "cell_type": "markdown",
   "metadata": {},
   "source": [
    "Most of loans had a rating of C. The distribution assimilates with a normal distribution."
   ]
  },
  {
   "cell_type": "code",
   "execution_count": 31,
   "metadata": {},
   "outputs": [
    {
     "data": {
      "image/png": "[encoded data removed]",
      "text/plain": [
       "<Figure size 576x360 with 1 Axes>"
      ]
     },
     "metadata": {
      "needs_background": "light"
     },
     "output_type": "display_data"
    }
   ],
   "source": [
    "# Distribution of lander yield \n",
    "bins = np.arange(0, df_loan['EstimatedReturn'].max()+0.003, 0.003)\n",
    "plt.figure(figsize=[8, 5])\n",
    "plt.hist(data = df_loan, x = 'EstimatedReturn', bins =bins)\n",
    "plt.xlabel('Estimated Return')\n",
    "plt.xlim(0,0.2)\n",
    "plt.show()"
   ]
  },
  {
   "cell_type": "code",
   "execution_count": 32,
   "metadata": {},
   "outputs": [
    {
     "name": "stdout",
     "output_type": "stream",
     "text": [
      "0.09606829611209916\n",
      "0    0.1246\n",
      "dtype: float64\n"
     ]
    }
   ],
   "source": [
    "print(df_loan['EstimatedReturn'].mean())\n",
    "print(df_loan['EstimatedReturn'].mode())"
   ]
  },
  {
   "cell_type": "markdown",
   "metadata": {},
   "source": [
    "The distribution looks right-skewed, with a mean return of 9.60% and a mode of 12.46%."
   ]
  },
  {
   "cell_type": "markdown",
   "metadata": {},
   "source": [
    "As it was observed a small number of borrowers with really high delinquencies, those will be not considered during the further analysis. From here on, it will be only considered borrowers up to 15 deliquencies."
   ]
  },
  {
   "cell_type": "code",
   "execution_count": 33,
   "metadata": {},
   "outputs": [],
   "source": [
    "df_loan = df_loan[df_loan['CurrentDelinquencies'] <=15]"
   ]
  },
  {
   "cell_type": "markdown",
   "metadata": {},
   "source": [
    "### Discuss the distribution(s) of your variable(s) of interest. Were there any unusual points? Did you need to perform any transformations?\n",
    "\n",
    "* The variables of interest display that most loans are current and those who do not pay have less than 5 delinquencies.\n",
    "* Most borrowers have no past delinquencis in 7 years, are employed, have a low debt to income ratio, earning more than 25,000.\n",
    "* The loan initial amount have peaks around \\$4,000, \\\\$10,000 and \\\\$15,000, and the most frequent loan payments are between 100 and 200.\n",
    "\n",
    "It was not observed any unusual point and log transformation was needed for income ranges. \n",
    "\n",
    "### Of the features you investigated, were there any unusual distributions? Did you perform any operations on the data to tidy, adjust, or change the form of the data? If so, why did you do this?\n",
    "The features investigated displayed usual distributions, however in many of them it is possible to observe some peaks. \n",
    "No operations were needed in order change data, apart from the motifications of data types in some variables."
   ]
  },
  {
   "cell_type": "markdown",
   "metadata": {},
   "source": [
    "## Bivariate Exploration\n"
   ]
  },
  {
   "cell_type": "markdown",
   "metadata": {},
   "source": [
    "As an initial step, it will be observed the correlation between the different variables in the data."
   ]
  },
  {
   "cell_type": "code",
   "execution_count": 34,
   "metadata": {},
   "outputs": [
    {
     "data": {
      "image/png": "[encoded data removed]",
      "text/plain": [
       "<Figure size 576x360 with 2 Axes>"
      ]
     },
     "metadata": {
      "needs_background": "light"
     },
     "output_type": "display_data"
    }
   ],
   "source": [
    "numeric_vars = ['BorrowerRate', 'LenderYield',\n",
    "       'EstimatedEffectiveYield', 'EstimatedLoss', 'EstimatedReturn',\n",
    "       'CurrentDelinquencies', 'AmountDelinquent',\n",
    "       'DelinquenciesLast7Years', 'DebtToIncomeRatio', \n",
    "       'StatedMonthlyIncome', 'LoanOriginalAmount', 'MonthlyLoanPayment']\n",
    "categoric_vars = ['Term', 'LoanStatus', 'ProsperRating', 'ProsperScore', 'Occupation', 'EmploymentStatus',\n",
    "       'IsBorrowerHomeowner','IncomeRange',]\n",
    "\n",
    "# correlation plot\n",
    "plt.figure(figsize = [8, 5])\n",
    "sb.heatmap(df_loan[numeric_vars].corr(), annot = True, fmt = '.3f',\n",
    "           cmap = 'vlag_r', center = 0)\n",
    "plt.show()"
   ]
  },
  {
   "cell_type": "code",
   "execution_count": 35,
   "metadata": {},
   "outputs": [],
   "source": [
    "# plot matrix considers a sample of 500 loans in order to render faster\n",
    "samples = np.random.choice(df_loan.shape[0], 500, replace = False)\n",
    "loans_samp = df_loan.reindex(samples)"
   ]
  },
  {
   "cell_type": "code",
   "execution_count": null,
   "metadata": {},
   "outputs": [],
   "source": [
    "g = sb.PairGrid(data = loans_samp, vars = numeric_vars)\n",
    "g = g.map_diag(plt.hist, bins = 20);\n",
    "g.map_offdiag(plt.scatter);"
   ]
  },
  {
   "cell_type": "markdown",
   "metadata": {},
   "source": [
    "From the two plots above, we can clearly verify that the borrower rate is related with the lender yield (as expected).  \n",
    "Also, higher rates are applied to those with more delinquencies.  \n",
    "The borrower rate has a wide range for small loans (original amount), however the values tend to be lower for higher amounts."
   ]
  },
  {
   "cell_type": "code",
   "execution_count": null,
   "metadata": {},
   "outputs": [],
   "source": [
    "# Understand relation between LoanStatus and number of Terms\n",
    "plt.figure(figsize=(15,10))\n",
    "sb.countplot(data = df_loan, y = 'LoanStatus', hue = 'Term')\n",
    "plt.ylabel('Loan Status')\n",
    "plt.xlabel('Count')\n",
    "plt.legend(framealpha = 1, title = 'Number of Terms');"
   ]
  },
  {
   "cell_type": "code",
   "execution_count": null,
   "metadata": {},
   "outputs": [],
   "source": [
    "df_loan.Term.value_counts()"
   ]
  },
  {
   "cell_type": "markdown",
   "metadata": {},
   "source": [
    "The majority of completed and current loans are of 36 terms. Current loans also have a significant amount of 60 terms loans."
   ]
  },
  {
   "cell_type": "code",
   "execution_count": null,
   "metadata": {},
   "outputs": [],
   "source": [
    "def cat_scatterplots(dataframe, feature_a, feature_b, feature_a_label, feature_b_label, limx_min = None, \n",
    "                     limx_max = None, limy_min = None, limy_max = None):\n",
    "    plt.figure(figsize=[8, 5])\n",
    "    plt.scatter(data = dataframe, x = feature_a, y = feature_b, alpha = 1/8)\n",
    "    plt.xlabel(feature_a_label)\n",
    "    plt.ylabel(feature_b_label)\n",
    "    plt.xlim(limx_min, limx_max)\n",
    "    plt.ylim(limy_min, limy_max);"
   ]
  },
  {
   "cell_type": "code",
   "execution_count": null,
   "metadata": {},
   "outputs": [],
   "source": [
    "# Understand relation between LoanStatus and BorrowerRate\n",
    "cat_scatterplots(df_loan, 'BorrowerRate', 'LoanStatus', 'Loan Status', 'Borrower Rate')"
   ]
  },
  {
   "cell_type": "markdown",
   "metadata": {},
   "source": [
    "It is possible to notice that current loans have a range of rates between 0.05 and 0.35. Past due loans seem to have a higher rate, with values closer to 0.2 and 0.3."
   ]
  },
  {
   "cell_type": "code",
   "execution_count": null,
   "metadata": {},
   "outputs": [],
   "source": [
    "# Understand relation between LoanStatus and EmploymentStatus\n",
    "plt.figure(figsize=(10,10))\n",
    "sb.countplot(data = df_loan.query('LoanStatus == [\"Chargedoff\",\"Completed\", \"Current\"]'), x = 'LoanStatus', hue = 'EmploymentStatus')\n",
    "plt.xlabel('Loan Status')\n",
    "plt.ylabel('Count')\n",
    "plt.legend(framealpha = 1, title = 'Employment Status')\n",
    "plt.xlim(0.5,3.5);"
   ]
  },
  {
   "cell_type": "markdown",
   "metadata": {},
   "source": [
    "Most current loans are made by employed borrowers."
   ]
  },
  {
   "cell_type": "code",
   "execution_count": null,
   "metadata": {},
   "outputs": [],
   "source": [
    "# Understand relation between LoanStatus and EmploymentStatus\n",
    "plt.figure(figsize=(10,10))\n",
    "sb.countplot(data = df_loan.query('LoanStatus != [\"Chargedoff\",\"Completed\", \"Current\"]'), x = 'LoanStatus', hue = 'EmploymentStatus')\n",
    "plt.xlabel('Loan Status')\n",
    "plt.ylabel('Count')\n",
    "plt.legend(framealpha = 1, title = 'Employment Status')\n",
    "plt.xlim(5.5,12)\n",
    "plt.ylim(0,700)\n",
    "plt.xticks(rotation=15);"
   ]
  },
  {
   "cell_type": "markdown",
   "metadata": {},
   "source": [
    "Most past due are made by employed borrowers."
   ]
  },
  {
   "cell_type": "code",
   "execution_count": null,
   "metadata": {},
   "outputs": [],
   "source": [
    "# Understand relation between LoanStatus and IsBorrowerHomeowner\n",
    "plt.figure(figsize=(15,10))\n",
    "sb.countplot(data = df_loan, x = 'LoanStatus', hue = 'IsBorrowerHomeowner')\n",
    "plt.xlabel('Loan Status')\n",
    "plt.xticks(rotation=15)\n",
    "plt.ylabel('Count')\n",
    "plt.legend(framealpha = 1, title = 'Homeownership');"
   ]
  },
  {
   "cell_type": "markdown",
   "metadata": {},
   "source": [
    "A higher percentage of current loans are made by home owners, but the past due loans have a similar percentage of homeownership."
   ]
  },
  {
   "cell_type": "code",
   "execution_count": null,
   "metadata": {},
   "outputs": [],
   "source": [
    "# Understand relation between LoanStatus and CurrentDelinquencies\n",
    "cat_scatterplots(df_loan, 'CurrentDelinquencies', 'LoanStatus', 'Current Delinquencies', 'Loan Status', 0, 15)"
   ]
  },
  {
   "cell_type": "markdown",
   "metadata": {},
   "source": [
    "The number of current delinquencies does not seem to influence the loan payment, as there is a wide range of number of delinquencies and past due loans do not necessary have a high number."
   ]
  },
  {
   "cell_type": "code",
   "execution_count": null,
   "metadata": {},
   "outputs": [],
   "source": [
    "# Understand relation between LoanStatus and DelinquenciesLast7Years\n",
    "cat_scatterplots(df_loan, 'DelinquenciesLast7Years', 'LoanStatus', 'Delinquencies Last 7 Years', 'Loan Status')"
   ]
  },
  {
   "cell_type": "markdown",
   "metadata": {},
   "source": [
    "Similarly to the observed for the number of delinquencies, the number of delinquencies in the last 7 years have a wide range of values and do not present any special indication for the loan status."
   ]
  },
  {
   "cell_type": "code",
   "execution_count": null,
   "metadata": {},
   "outputs": [],
   "source": [
    "# Understand relation between LoanStatus and DebtToIncomeRatio\n",
    "cat_scatterplots(df_loan, 'DebtToIncomeRatio', 'LoanStatus', 'Debt To Income Ratio', 'Loan Status',0, 1.5)"
   ]
  },
  {
   "cell_type": "code",
   "execution_count": null,
   "metadata": {},
   "outputs": [],
   "source": [
    "default_color = sb.color_palette()[0]\n",
    "sb.boxplot(data = df_loan[df_loan['DebtToIncomeRatio']<1], y = 'DebtToIncomeRatio', x = 'LoanStatus', color = default_color)\n",
    "plt.xticks(rotation = 25);"
   ]
  },
  {
   "cell_type": "markdown",
   "metadata": {},
   "source": [
    "The debt to income ratio does not present any special indication to the loan status."
   ]
  },
  {
   "cell_type": "code",
   "execution_count": null,
   "metadata": {},
   "outputs": [],
   "source": [
    "# Understand relation between LoanStatus and IncomeRange\n",
    "plt.figure(figsize=(15,10))\n",
    "sb.countplot(data = df_loan.query('LoanStatus == [\"Chargedoff\",\"Completed\", \"Current\"]'), x = 'LoanStatus', hue = 'IncomeRange')\n",
    "plt.xlabel('Loan Status')\n",
    "plt.xticks(rotation=15)\n",
    "plt.ylabel('Count')\n",
    "plt.legend(framealpha = 1, title = 'Income Range')\n",
    "plt.xlim(0.5,3.5);"
   ]
  },
  {
   "cell_type": "markdown",
   "metadata": {},
   "source": [
    "The majority of current loans are made by individual with an income range of \\$50,000 - \\\\$75,999."
   ]
  },
  {
   "cell_type": "code",
   "execution_count": null,
   "metadata": {},
   "outputs": [],
   "source": [
    "# Understand relation between LoanStatus and IncomeRange\n",
    "plt.figure(figsize=(15,10))\n",
    "sb.countplot(data = df_loan.query('LoanStatus != [\"Chargedoff\",\"Completed\", \"Current\"]'), x = 'LoanStatus', hue = 'IncomeRange')\n",
    "plt.xlabel('Loan Status')\n",
    "plt.xticks(rotation=15)\n",
    "plt.ylabel('Count')\n",
    "plt.legend(framealpha = 1, title = 'Income Range')\n",
    "plt.xlim(5.5,12)\n",
    "plt.ylim(0,280);"
   ]
  },
  {
   "cell_type": "markdown",
   "metadata": {},
   "source": [
    "But if it is regarded the past due loans, most are made by individual with an income range between \\$25,000 - \\\\$49,999."
   ]
  },
  {
   "cell_type": "code",
   "execution_count": null,
   "metadata": {},
   "outputs": [],
   "source": [
    "# Understand relation between LoanStatus and StatedMonthlyIncome\n",
    "cat_scatterplots(df_loan, 'StatedMonthlyIncome', 'LoanStatus', 'Stated Monthly Income', 'Loan Status',0, 60000)"
   ]
  },
  {
   "cell_type": "markdown",
   "metadata": {},
   "source": [
    "It is possible to notice that the past due loan are mostly made by individuals with a lower stated monthly income."
   ]
  },
  {
   "cell_type": "code",
   "execution_count": null,
   "metadata": {},
   "outputs": [],
   "source": [
    "# Understand relation between LoanStatus and LoanOriginalAmount\n",
    "cat_scatterplots(df_loan, 'LoanOriginalAmount', 'LoanStatus', 'Loan Original Amount', 'Loan Status')"
   ]
  },
  {
   "cell_type": "markdown",
   "metadata": {},
   "source": [
    "Past due loans have a high frequency in amount around \\$4,000, \\\\$10,000 and \\\\$15,000."
   ]
  },
  {
   "cell_type": "code",
   "execution_count": null,
   "metadata": {},
   "outputs": [],
   "source": [
    "# Understand relation between LoanStatus and MonthlyLoanPayment\n",
    "cat_scatterplots(df_loan, 'MonthlyLoanPayment', 'LoanStatus', 'Monthly Loan Payment', 'Loan Status', 0, 1500)"
   ]
  },
  {
   "cell_type": "markdown",
   "metadata": {},
   "source": [
    "Past due loans have a high frequency of occurrences in values around monthly loan payments of 200."
   ]
  },
  {
   "cell_type": "code",
   "execution_count": null,
   "metadata": {},
   "outputs": [],
   "source": [
    "samples = np.random.choice(df_loan.shape[0], 1000, replace = False)\n",
    "loans_samp = df_loan.reindex(samples)\n",
    "categoric_vars = ['LoanStatus', 'IncomeRange', 'CurrentDelinquencies']\n",
    "\n",
    "fig, ax = plt.subplots(ncols = 2, nrows = 3 , figsize = [20,20])\n",
    "\n",
    "for i in range(len(categoric_vars)):\n",
    "    var = categoric_vars[i]\n",
    "    sb.violinplot(data = loans_samp, x = var, y = 'MonthlyLoanPayment', ax = ax[i,0],\n",
    "               color = default_color)\n",
    "    ax[i,0].set_xticklabels(ax[i,0].get_xticklabels(), rotation=45)\n",
    "    sb.violinplot(data = loans_samp, x = var, y = 'BorrowerRate', ax = ax[i,1],\n",
    "               color = default_color)\n",
    "    ax[i,1].set_xticklabels(ax[i,1].get_xticklabels(), rotation=45)\n",
    "fig.tight_layout()\n",
    "plt.show()"
   ]
  },
  {
   "cell_type": "markdown",
   "metadata": {},
   "source": [
    "* Past due loans have monthly payments around 200 and they present higher borrowers rates.\n",
    "* Higher income ranges have some higher values of monthly payment, however the most frequent values are similar for all income ranges. The most frequent values of borrower rate present a decreasing tendency as the income increases.\n",
    "* The most frequent monthly payments values are similar for most number of delinquencies, however those with zero delinquencies present higher monthly payments. The borrower rate has an increasing trend according to the number of delinquencies up to 4 delinquencies."
   ]
  },
  {
   "cell_type": "code",
   "execution_count": null,
   "metadata": {},
   "outputs": [],
   "source": [
    "plt.figure(figsize=(15,10))\n",
    "sb.countplot(data = df_loan, x = 'CurrentDelinquencies', hue = 'EmploymentStatus')\n",
    "plt.xlabel('Current deliquencies')\n",
    "plt.ylabel('Count')\n",
    "plt.legend(framealpha = 1, title = 'Employment status')\n",
    "plt.xlim(-0.5,5.5)\n",
    "plt.ylim(0,60000);"
   ]
  },
  {
   "cell_type": "markdown",
   "metadata": {},
   "source": [
    "The plot is a little messy, but we are interested in those with 0 delinquencies, which means the ones that have everything payed. Analyzing the plot, it is possible to observe that the majority people with 0 delinquencies are those employed, full-time and self-employed.\n",
    "This confirms the initial hypothesis that having a job is a high indication that the person is likely to pay the loan."
   ]
  },
  {
   "cell_type": "code",
   "execution_count": null,
   "metadata": {},
   "outputs": [],
   "source": [
    "plt.figure(figsize=(15,10))\n",
    "sb.countplot(data = df_loan, x = 'CurrentDelinquencies', hue = 'IsBorrowerHomeowner')\n",
    "plt.xlabel('Current deliquencies')\n",
    "plt.ylabel('Count')\n",
    "plt.legend(framealpha = 1, title = 'Home ownership')\n",
    "plt.xlim(-0.5,5.5);"
   ]
  },
  {
   "cell_type": "markdown",
   "metadata": {},
   "source": [
    "This plot depicts that home ownership is has almost the same percentage among those with no delinquencies. Again, this probably means that home ownership has no influence on wether someone will pay or not the loan."
   ]
  },
  {
   "cell_type": "code",
   "execution_count": null,
   "metadata": {},
   "outputs": [],
   "source": [
    "def cat_regplots(dataframe, feature_a, feature_b, feature_a_label, feature_b_label, limx_min = None, \n",
    "                     limx_max = None, limy_min = None, limy_max = None):\n",
    "    plt.figure(figsize=[8, 5])\n",
    "    sb.regplot(data = dataframe, x = feature_a, y = feature_b, fit_reg = False,\n",
    "               x_jitter = 0.2, y_jitter = 0.2, scatter_kws = {'alpha': 1/8})\n",
    "    plt.xlabel(feature_a_label)\n",
    "    plt.ylabel(feature_b_label)\n",
    "    plt.xlim(limx_min, limx_max)\n",
    "    plt.ylim(limy_min, limy_max);"
   ]
  },
  {
   "cell_type": "code",
   "execution_count": null,
   "metadata": {},
   "outputs": [],
   "source": [
    "# Understand the relation between number of delinquencies and borrower rate\n",
    "cat_regplots(df_loan, 'BorrowerRate', 'CurrentDelinquencies', 'Borrower Rate', 'Current Delinquencies',  \n",
    "                 limy_min = 0, limy_max = 15)"
   ]
  },
  {
   "cell_type": "markdown",
   "metadata": {},
   "source": [
    "Individuals with no delinquencies have a wide range of rates. However, as the number of delinquencies increases, the rate tends to be higher."
   ]
  },
  {
   "cell_type": "code",
   "execution_count": null,
   "metadata": {},
   "outputs": [],
   "source": [
    "# Understand the relation between number of delinquencies and loan amount\n",
    "cat_regplots(df_loan, 'LoanOriginalAmount', 'CurrentDelinquencies', 'Loan Amount', 'Current Delinquencies',  \n",
    "                 limy_min = 0, limy_max = 15)"
   ]
  },
  {
   "cell_type": "markdown",
   "metadata": {},
   "source": [
    "It is possible to notice a higher frequency of higher loan amounts for the individuals with a smaller number of current delinquencies."
   ]
  },
  {
   "cell_type": "code",
   "execution_count": null,
   "metadata": {},
   "outputs": [],
   "source": [
    "# Understand a possible relation between the number of delinquencies and income\n",
    "cat_regplots(df_loan, 'StatedMonthlyIncome', 'CurrentDelinquencies', 'Stated Monthly Income', 'Current Delinquencies',  \n",
    "                 limx_min = 0, limx_max = 30000, limy_min = 0, limy_max = 15)"
   ]
  },
  {
   "cell_type": "markdown",
   "metadata": {},
   "source": [
    "It is possible to observe that higher the income, smaller the number of delinquencies tend to be."
   ]
  },
  {
   "cell_type": "code",
   "execution_count": null,
   "metadata": {},
   "outputs": [],
   "source": [
    "# Understand the variation if there is any link between a specific prosper rating with smaller number of deliquencies\n",
    "plt.figure(figsize=(15,10))\n",
    "sb.countplot(data = df_loan, x = 'CurrentDelinquencies', hue = 'ProsperRating')\n",
    "plt.xlabel('Current Delinquencies')\n",
    "plt.ylabel('Count')\n",
    "plt.legend(framealpha = 1, title = 'Prosper Rating')\n",
    "plt.xlim(-0.5,5.5);"
   ]
  },
  {
   "cell_type": "markdown",
   "metadata": {},
   "source": [
    "It is possible to notice that individual with no delinquencies have all different  ratings. However, there is a higher number of individuals with rating C, B and A."
   ]
  },
  {
   "cell_type": "code",
   "execution_count": null,
   "metadata": {},
   "outputs": [],
   "source": [
    "# Understand the variation of amount deliquent according to the income\n",
    "cat_regplots(df_loan, 'StatedMonthlyIncome', 'AmountDelinquent', 'Stated Monthly Income', 'Amount Delinquent',  \n",
    "                 limx_min = 0, limx_max = 30000, limy_min = 0, limy_max = 15000)"
   ]
  },
  {
   "cell_type": "markdown",
   "metadata": {},
   "source": [
    "In the previous plot we can observe again that those individuals with smaller income are the ones with a higher amount delinquent."
   ]
  },
  {
   "cell_type": "code",
   "execution_count": null,
   "metadata": {},
   "outputs": [],
   "source": [
    "# Understand the variation of Monthly Loan Payment according to the Stated Monthly Income\n",
    "plt.hist2d(data = df_loan[(df_loan['StatedMonthlyIncome']<10000)&(df_loan['MonthlyLoanPayment']<2000)], x = 'StatedMonthlyIncome', y = 'MonthlyLoanPayment', cmap = 'viridis_r')\n",
    "plt.colorbar()\n",
    "plt.xlabel('Stated Monthly Income')\n",
    "plt.ylabel('Monthly Loan Payment')\n",
    "plt.xlim(0,10000);"
   ]
  },
  {
   "cell_type": "markdown",
   "metadata": {},
   "source": [
    "It is possible to notice that there is a high frequency of individual with a monthly income between \\\\$2000 and \\\\$3000 who pay a value up to \\\\$200."
   ]
  },
  {
   "cell_type": "code",
   "execution_count": null,
   "metadata": {},
   "outputs": [],
   "source": [
    "# Understand the variation of Lender Yield according to the Loan Original Amount\n",
    "cat_scatterplots(df_loan, 'LenderYield', 'LoanOriginalAmount', 'Lender Yield', 'Loan Original Amount',  \n",
    "                 limx_min = 0, limx_max = 0.35)"
   ]
  },
  {
   "cell_type": "markdown",
   "metadata": {},
   "source": [
    "The lender yield seems to be higher for loan amounts smaller than $10,000."
   ]
  },
  {
   "cell_type": "code",
   "execution_count": null,
   "metadata": {},
   "outputs": [],
   "source": [
    "# Understand the income monthly payment distrbution according to the income range\n",
    "plt.figure(figsize=(15,10))\n",
    "base_color = sb.color_palette()[3]\n",
    "sb.violinplot(data = df_loan, x = 'IncomeRange', y = 'MonthlyLoanPayment', color = base_color, inner='quartile')\n",
    "plt.xlabel('Income Range')\n",
    "plt.ylabel('Monthly Loan Payment');"
   ]
  },
  {
   "cell_type": "markdown",
   "metadata": {},
   "source": [
    "Those with a higher income range have a higher mean monthly loan payment. Also, it is possible to notice an increase in the monthly loan payment as the income range increases."
   ]
  },
  {
   "cell_type": "code",
   "execution_count": null,
   "metadata": {},
   "outputs": [],
   "source": [
    "# Understand the income monthly payment distrbution according to the Stated Monthly Income\n",
    "x_ticks = [500, 1000, 5000, 10000,20000, 50000,100000]\n",
    "plt.figure(figsize=[8, 5])\n",
    "plt.scatter(data = df_loan, x = 'StatedMonthlyIncome', y = 'MonthlyLoanPayment',  alpha = 1/8)\n",
    "plt.xlabel('Stated Monthly Income')\n",
    "plt.ylabel('Monthly Loan Payment')\n",
    "plt.xscale('log')\n",
    "plt.xticks(x_ticks, x_ticks)\n",
    "plt.xlim(500,100000);"
   ]
  },
  {
   "cell_type": "markdown",
   "metadata": {},
   "source": [
    "The same pattern as before can be observed if the stated monthly income is regarded instead of income range. There is an increase in the monthly loan payment as the stated monthly income rises. Also, it is possible to notice a higher number of loans with monthly payment bellow $500 for the majority of stated monthly incomes."
   ]
  },
  {
   "cell_type": "code",
   "execution_count": null,
   "metadata": {},
   "outputs": [],
   "source": [
    "# Understand the Debt To Income Ratio distribution according to the Stated Monthly Income\n",
    "x_ticks = [500, 1000, 5000, 10000,20000, 50000,100000]\n",
    "plt.figure(figsize=[8, 5])\n",
    "plt.scatter(data = df_loan, x = 'StatedMonthlyIncome', y = 'DebtToIncomeRatio',  alpha = 1/8)\n",
    "plt.xlabel('Stated Monthly Income')\n",
    "plt.ylabel('Debt To Income Ratio')\n",
    "plt.xscale('log')\n",
    "plt.xticks(x_ticks, x_ticks)\n",
    "plt.xlim(500,100000)\n",
    "plt.ylim(0,4);"
   ]
  },
  {
   "cell_type": "markdown",
   "metadata": {},
   "source": [
    "It is possible to notice a negative trend between debt to income ratio and stated monthly income. This means that people with higher income usually have a loan value that is less significant when compared to their total income."
   ]
  },
  {
   "cell_type": "markdown",
   "metadata": {},
   "source": [
    "### Talk about some of the relationships you observed in this part of the investigation. How did the feature(s) of interest vary with other features in the dataset?\n",
    "\n",
    "\n",
    "Analyzing the previous plots, it is possible to notice that loans of 36 terms are the ones which are mostly completed and current. This could possibly be an indication of the status, however as it is the option with higher number of borrowers, it is not possible to state without any further investigation. Other factors that seem not to imply the loan status are the employment status and homeownership. Both \"current\" and \"past due\" loans are mainly made by employed individuals and homeownership is not highly predominant in any loan status.  \n",
    "\n",
    "The number of current delinquencies and delinquencies in the past seven years take a wide range of values and does not present any specific relation to the loan status. The debt to income ratio does not present any special relationship with the loan status, but the income range which is more common in the the \"past due\" loans is the range between \\$25,000 - \\\\$49,999, indicating that lower income might be an indication of the loan status. The latter is confirmed with the analysis of the distribution of the stated monthly income, in which is noticed a higher presence of individuals with lower income with a \"past due\" loan.  \n",
    "\n",
    "Also, it was possible to notice that loans have higher borrowers rates for those that are \"past due\". Another interesting fact is that \"past due\" loans have a high frequency of loans amount of \\\\$4,000, \\\\$10,000 and \\\\$15,000, and the most frequent monthly loan payments are around \\\\$200.\n",
    "\n",
    "\n",
    "### Did you observe any interesting relationships between the other features (not the main feature(s) of interest)?\n",
    "\n",
    "Some interesting and expected relationships were confirmed: a higher number of delinquencies implies in a higher borrower rate, higher income ranges present higher values of monthly loan payment, higher the incomes tend to have a smaller  number of delinquencies. Also, the majority of individuals with 0 delinquencies are those employed, full-time and self-employed, indicating that employment could influence the payment of the loan. This fact is reinforced by \n",
    "those individuals with smaller income presenting higher delinquent amounts.   \n",
    "\n",
    "Also, as expected, it is possible to notice a higher frequency of higher loan amounts by individuals who have a smaller number of current delinquencies, and it is possible to notice a negative trend between debt to income ratio and stated monthly income, meaning that people with higher income usually ask for a loan amount that is less significant to their total income value.   \n",
    "\n",
    "Differently from what was supposed in the beginning, homeownership has no influence on wether someone will pay or not the loan, and the lender yield seems to be higher for loan amounts smaller than \\\\$10,000, indicating that higher loan amounts do not lead to higher yields."
   ]
  },
  {
   "cell_type": "markdown",
   "metadata": {},
   "source": [
    "## Multivariate Exploration\n",
    "\n",
    "In the multivariate explaration, my main objective in to explore the relation between Loan Status, Borrower Rate, Income Range, Loan Orignal Amount and Monthly Loan Payment."
   ]
  },
  {
   "cell_type": "code",
   "execution_count": null,
   "metadata": {},
   "outputs": [],
   "source": [
    "# Creating a new dataframe composed of LoanStatus of interest\n",
    "df_loan_stat = df_loan.copy()\n",
    "df_loan_stat['LoanStatus'] = df_loan_stat['LoanStatus'].astype('str')\n",
    "stat = ['Completed','Current', 'Past Due (1-15 days)','Past Due (16-30 days)', 'Past Due (31-60 days)','Past Due (61-90 days)','Past Due (91-120 days)','Past Due (>120 days)']\n",
    "df_loan_stat = df_loan_stat.loc[df_loan_stat['LoanStatus'].isin(stat)]\n",
    "df_loan_stat['LoanStatus'] = df_loan_stat['LoanStatus'].astype('category')"
   ]
  },
  {
   "cell_type": "code",
   "execution_count": null,
   "metadata": {},
   "outputs": [],
   "source": [
    "df_loan_stat.to_csv('Prosper_loan_clean.csv',index=False)"
   ]
  },
  {
   "cell_type": "code",
   "execution_count": null,
   "metadata": {},
   "outputs": [],
   "source": [
    "# Understand the relation between LoanStatus, LoanOriginalAmount and BorrowerRate\n",
    "g = sb.FacetGrid(data = df_loan_stat, col = 'LoanStatus', size = 4, col_wrap = 4)\n",
    "g.map(plt.scatter, 'BorrowerRate','LoanOriginalAmount', alpha = 1/8)\n",
    "g.set_ylabels('Loan Original Amount')\n",
    "g.set_xlabels('Borrower Rate')\n",
    "g.set_titles('{col_name}');"
   ]
  },
  {
   "cell_type": "markdown",
   "metadata": {},
   "source": [
    "It is possible to observe the completed and current loans have original amounts and borrower rates in a wide range of values. However, if regarded the past due loans, it is possible to observe a higher frequency of loans around \\$4,000, \\\\$10,000 and \\\\$15,000 and higher rates, around 0.3."
   ]
  },
  {
   "cell_type": "code",
   "execution_count": null,
   "metadata": {},
   "outputs": [],
   "source": [
    "# Understand the relation between LoanStatus, MonthlyLoanPayment and BorrowerRate\n",
    "g = sb.FacetGrid(data = df_loan_stat, col = 'LoanStatus', size = 4, col_wrap = 4)\n",
    "g.map(plt.scatter, 'BorrowerRate','MonthlyLoanPayment', alpha = 1/8)\n",
    "g.set_ylabels('Monthly Loan Payment')\n",
    "g.set_xlabels('Borrower Rate')\n",
    "g.set_titles('{col_name}');"
   ]
  },
  {
   "cell_type": "markdown",
   "metadata": {},
   "source": [
    "It is possible to notice that for current and completed loans there s an increasing trend between borrower rate and monthly loan payment. This trend can be observed in past due loans, however it is less intense. Also, it is possible to notice that past due loans usually have lower monthly loan payments and rates around 0.3."
   ]
  },
  {
   "cell_type": "code",
   "execution_count": null,
   "metadata": {},
   "outputs": [],
   "source": [
    "# Understand the relation between LoanStatus, MonthlyLoanPayment and LoanOriginalAmount\n",
    "g = sb.FacetGrid(data = df_loan_stat, col = 'LoanStatus', size = 4, col_wrap = 4)\n",
    "g.map(plt.scatter, 'LoanOriginalAmount','MonthlyLoanPayment', alpha = 1/8)\n",
    "g.set_xlabels('Loan Original Amount')\n",
    "g.set_ylabels('Monthly Loan Payment')\n",
    "g.set_titles('{col_name}');"
   ]
  },
  {
   "cell_type": "markdown",
   "metadata": {},
   "source": [
    "As expected, higher loan original amounts have higher monthly payments. Another noticeable fact is that past due loans have lower loan original amount values."
   ]
  },
  {
   "cell_type": "code",
   "execution_count": null,
   "metadata": {},
   "outputs": [],
   "source": [
    "# Understand the relation between LoanStatus, IncomeRange and LoanOriginalAmount\n",
    "plt.figure(figsize=[15,5])\n",
    "sb.boxplot(data = df_loan_stat, x = 'LoanStatus', y = 'LoanOriginalAmount', hue = 'IncomeRange')\n",
    "plt.xlabel('Loan Status')\n",
    "plt.ylabel('Loan Original Amount')\n",
    "plt.xticks(rotation=20)\n",
    "plt.legend(title = 'Income Range', loc =0);"
   ]
  },
  {
   "cell_type": "markdown",
   "metadata": {},
   "source": [
    "It is verified an increasing trend in the median of loan original amounts as the income range increases. This pattern can be observed in most loans status. "
   ]
  },
  {
   "cell_type": "code",
   "execution_count": null,
   "metadata": {},
   "outputs": [],
   "source": [
    "# Understand the relation between LoanStatus, BorrowerRate and IncomeRange\n",
    "plt.figure(figsize=[15,5])\n",
    "sb.boxplot(data = df_loan_stat, x = 'LoanStatus', y = 'BorrowerRate', hue = 'IncomeRange')\n",
    "plt.xlabel('Loan Status')\n",
    "plt.ylabel('Borrower Rate')\n",
    "plt.xticks(rotation=20)\n",
    "plt.legend(title = 'Income Range', loc =0);"
   ]
  },
  {
   "cell_type": "markdown",
   "metadata": {},
   "source": [
    "It is verified a decreasing trend in the borrower rate as the income range increases. We can also observe higher median borrower rates for past due loans and that this rate is higher for the income range \\$1 - \\\\$24,999 with loans past due over 60 days."
   ]
  },
  {
   "cell_type": "code",
   "execution_count": null,
   "metadata": {},
   "outputs": [],
   "source": [
    "# Understand the relation between LoanStatus, MonthlyLoanPayment and IncomeRange\n",
    "plt.figure(figsize=[15,5])\n",
    "sb.boxplot(data = df_loan_stat, x = 'LoanStatus', y = 'MonthlyLoanPayment', hue = 'IncomeRange')\n",
    "plt.xlabel('Loan Status')\n",
    "plt.ylabel('Monthly Loan Payment')\n",
    "plt.xticks(rotation=20)\n",
    "plt.ylim(0,1500)\n",
    "plt.legend(title = 'Income Range', loc =0);"
   ]
  },
  {
   "cell_type": "markdown",
   "metadata": {},
   "source": [
    "It is verified an increasing trend in the median monthly loan payment for increasing income ranges. It is also possible to verify that past due loans have lower monthly loan payments.\n",
    "\n",
    "Another interesting fact to be pointed out on the last three plots is that the Income range classified as \"Not displayed\" is only present in \"Completed and \"Past Due (>120 days)\"."
   ]
  },
  {
   "cell_type": "code",
   "execution_count": null,
   "metadata": {},
   "outputs": [],
   "source": [
    "fig = plt.figure(figsize = [8,6])\n",
    "ax = sb.pointplot(data = df_loan_stat, x = 'LoanStatus', y = 'MonthlyLoanPayment', hue = 'IncomeRange',\n",
    "           palette = 'Blues', linestyles = '', dodge = 0.4)\n",
    "plt.title('Monthly Loan Payments across Income Ranges and Loan Status')\n",
    "plt.ylabel('Monthly Loan Payments ($)')\n",
    "plt.xticks(rotation=35)\n",
    "plt.show();"
   ]
  },
  {
   "cell_type": "markdown",
   "metadata": {},
   "source": [
    "Again, it is verified an increasing central tendency between the monthly loan payments and higher income ranges. It is also noticeable a high variability in the monthly payment for past due loans."
   ]
  },
  {
   "cell_type": "code",
   "execution_count": null,
   "metadata": {},
   "outputs": [],
   "source": [
    "# Understand the realtion between MonthlyLoanPayment, LoanOriginalAmount and BorrowerRate\n",
    "plt.figure(figsize = (8,7))\n",
    "plt.scatter(data = df_loan_stat, y = 'LoanOriginalAmount', x = 'MonthlyLoanPayment', c = 'BorrowerRate', alpha = 1/2)\n",
    "plt.colorbar(label = 'Borrower Rate')\n",
    "plt.ylabel('Loan Original Amount')\n",
    "plt.xlabel('Monthly Loan Payment');"
   ]
  },
  {
   "cell_type": "markdown",
   "metadata": {},
   "source": [
    "It is possible to observe an increasing tendency between loan original amount and monthly loan payment. An interesting feature is that higher borrower rates are observed in loans with lower original amounts and, consequently, monthly payments."
   ]
  },
  {
   "cell_type": "markdown",
   "metadata": {},
   "source": [
    "### Talk about some of the relationships you observed in this part of the investigation. Were there features that strengthened each other in terms of looking at your feature(s) of interest?\n",
    "\n",
    "I continued the investigation of factors which might influence the loan stauts by regarding the influence of borrower rate, income range, loan original amount and monthly loan payment on it. The multivariate exploration showed that while completed and current loans have original amounts and borrower rates in a wide range of value, past due loans have a higher frequency of loans around \\$4,000, \\\\$10,000 and \\\\$15,000 and rates around 0.3. Also, in current and completed loans is possible to observe an increasing trend between borrower rate and monthly loan payment, which can also be observed in past due loans, however they are less intense. Another interesting point is that past due loans usually have lower monthly loan payments and rates around 0.3. As expected, higher loan original amounts had higher monthly payments. Another noticeable fact is that past due loans have lower loan original amount values.\n",
    "\n",
    "\n",
    "### Were there any interesting or surprising interactions between features?\n",
    "\n",
    "There was an increasing trend in the median of loan original amounts as the income range increases, which was observed for most loan status. Another increasing trend was verified in the median monthly loan payment when compared to the income ranges. In this comparisson, past due loans presented lower monthly loan payments. Also, there was a decreasing trend in the borrower rate as the income range increases.  \n",
    "It was interesting to verify that there are higher median borrower rates for past due loans and that this rate is higher for the income range \\\\$1 - \\\\$24,999 with loans past due over 60 days. Another interesting fact is that higher borrower rates are observed in loans with lower original amounts and, consequently, monthly payments.\n"
   ]
  },
  {
   "cell_type": "code",
   "execution_count": null,
   "metadata": {},
   "outputs": [],
   "source": []
  }
 ],
 "metadata": {
  "kernelspec": {
   "display_name": "Python 3",
   "language": "python",
   "name": "python3"
  },
  "language_info": {
   "codemirror_mode": {
    "name": "ipython",
    "version": 3
   },
   "file_extension": ".py",
   "mimetype": "text/x-python",
   "name": "python",
   "nbconvert_exporter": "python",
   "pygments_lexer": "ipython3",
   "version": "3.7.6"
  }
 },
 "nbformat": 4,
 "nbformat_minor": 2
}
